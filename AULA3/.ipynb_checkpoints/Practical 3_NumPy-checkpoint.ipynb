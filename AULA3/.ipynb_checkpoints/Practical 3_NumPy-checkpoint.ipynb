{
 "cells": [
  {
   "cell_type": "markdown",
   "id": "4fe723ed",
   "metadata": {},
   "source": [
    "## Practical 3"
   ]
  },
  {
   "cell_type": "markdown",
   "id": "be425d17",
   "metadata": {},
   "source": [
    "\n",
    "In this class, you will be asked to solve 2 exercises about NumPy.\n",
    "\n",
    "Good work!"
   ]
  },
  {
   "cell_type": "markdown",
   "id": "1c7796b0",
   "metadata": {
    "id": "JCS8qGI-qIdR"
   },
   "source": [
    "### Exercise 1"
   ]
  },
  {
   "cell_type": "markdown",
   "id": "a3cf8a01",
   "metadata": {},
   "source": [
    "#### 1. Import the numpy package under the name np¶"
   ]
  },
  {
   "cell_type": "code",
   "execution_count": 1,
   "id": "b8d7a505",
   "metadata": {
    "_uuid": "1f42e0ab79d92a23b119e23ab8dda63393447466",
    "id": "0vWNoennqIdW"
   },
   "outputs": [],
   "source": [
    "#1"
   ]
  },
  {
   "cell_type": "markdown",
   "id": "30c6fc2c",
   "metadata": {
    "_uuid": "77978f9afb5f957440f180861ccb06c2f644c317",
    "id": "SU_B78KIqIdZ"
   },
   "source": [
    "#### 2. Create a null vector of size 10 "
   ]
  },
  {
   "cell_type": "code",
   "execution_count": 2,
   "id": "6eacc93b",
   "metadata": {
    "_uuid": "beeb301d90b0fd6cb0f015969c969870bee981e8",
    "id": "qkv4vMHjqIdc"
   },
   "outputs": [],
   "source": [
    "#2"
   ]
  },
  {
   "cell_type": "markdown",
   "id": "6d0f7991",
   "metadata": {
    "_uuid": "c75ba6ea73f0a23f837c1553a0f564fbb8748557",
    "id": "kFbQmIZvqIdd"
   },
   "source": [
    "#### 3.  Create a null vector of size 10 but the fifth value which is 1 "
   ]
  },
  {
   "cell_type": "code",
   "execution_count": 3,
   "id": "312ca580",
   "metadata": {
    "_uuid": "a916d1332f7e1d7499fd9de3bb422651711df025",
    "id": "vsAn4TLDqIdd"
   },
   "outputs": [],
   "source": [
    "#3"
   ]
  },
  {
   "cell_type": "markdown",
   "id": "df005bd8",
   "metadata": {
    "_uuid": "118478fd9f22dc99584c1517078f1cdd4a4b36fc",
    "id": "qxp5CFdVqIdf"
   },
   "source": [
    "#### 4.  Create a vector with values ranging from 10 to 49"
   ]
  },
  {
   "cell_type": "code",
   "execution_count": 4,
   "id": "28ec429c",
   "metadata": {
    "_uuid": "ac7cbc58129168a298298ae6d3a756a2a94c2a5d",
    "id": "Be2rGkWFqIdf"
   },
   "outputs": [],
   "source": [
    "#4"
   ]
  },
  {
   "cell_type": "markdown",
   "id": "a75486a0",
   "metadata": {
    "_uuid": "886bef95cd1aa9af4133902b45b50127b5da54cb",
    "id": "cke0s58NqIdh"
   },
   "source": [
    "#### 5. Create a 10x10 array with random values and find the minimum and maximum values"
   ]
  },
  {
   "cell_type": "code",
   "execution_count": 5,
   "id": "fd42696a",
   "metadata": {
    "_uuid": "a8c13dc011c6afb824c3a7031330b6bd1a77e497",
    "id": "RwxoGujqqIdh"
   },
   "outputs": [],
   "source": [
    "#5 "
   ]
  },
  {
   "cell_type": "markdown",
   "id": "648dc20b",
   "metadata": {
    "_uuid": "07db1e47dcff92113a6d4c696e92a5578b20d89f",
    "id": "A7GlPDbiqIdk"
   },
   "source": [
    "#### 6. Create a random vector of size 30 and find the mean value"
   ]
  },
  {
   "cell_type": "code",
   "execution_count": 6,
   "id": "8978fae6",
   "metadata": {
    "_uuid": "a6533f70b28d583e6e1926a0e3e668b465d6ef6c",
    "id": "ImM7M23TqIdy"
   },
   "outputs": [],
   "source": [
    "#6"
   ]
  },
  {
   "cell_type": "markdown",
   "id": "05966111",
   "metadata": {
    "_uuid": "87fb9e8995db8ee27d3c209c840f3f2c6acb9bc5",
    "id": "Uq4kihMeqIdz"
   },
   "source": [
    "#### 7. Rescale a 5x5 random matrix, with a normalization and strandartization"
   ]
  },
  {
   "cell_type": "code",
   "execution_count": 7,
   "id": "aad53a01",
   "metadata": {
    "_uuid": "70b01b18cef5e31ffcc4c0219859e607e7a6d998",
    "id": "Sb52ZrgMqId0"
   },
   "outputs": [],
   "source": [
    "#7"
   ]
  },
  {
   "cell_type": "markdown",
   "id": "fe91c6f9",
   "metadata": {
    "_uuid": "34f5d6e2e269678714f1e5aafec8a92d6411ecd3",
    "id": "IcKdyU-QqId2"
   },
   "source": [
    "#### 8. Create a random vector of size 10 and sort it"
   ]
  },
  {
   "cell_type": "code",
   "execution_count": 8,
   "id": "794bbab2",
   "metadata": {
    "_uuid": "650bd640404dd8cfdbeb0d91b8fc5ea844ee60a8",
    "id": "0kHCX0g9qId2",
    "scrolled": true
   },
   "outputs": [],
   "source": [
    "#8"
   ]
  },
  {
   "cell_type": "markdown",
   "id": "0ad983e0",
   "metadata": {
    "_uuid": "353f854c6c99f2889b0d31cc69bc1fd7fccd0fe1",
    "id": "76pSb0xIqId3"
   },
   "source": [
    "#### 9. Create random vector of size 10 and replace the maximum value by 0 "
   ]
  },
  {
   "cell_type": "code",
   "execution_count": null,
   "id": "5d2f33f6",
   "metadata": {
    "_uuid": "fd9c6de99887f58497e8880f38b8aab24beaef6a",
    "id": "hOPjruG7qId4"
   },
   "outputs": [],
   "source": [
    "#9"
   ]
  },
  {
   "cell_type": "markdown",
   "id": "f884360a",
   "metadata": {
    "id": "DJSsJFHeqId6"
   },
   "source": [
    "#### 10. Create a vector with values ranging from 0 to 9. Replace all odd numbers in the array with -1\n"
   ]
  },
  {
   "cell_type": "code",
   "execution_count": 9,
   "id": "765dc603",
   "metadata": {
    "id": "JZS-8YZTqId7"
   },
   "outputs": [],
   "source": [
    "#10"
   ]
  },
  {
   "cell_type": "markdown",
   "id": "ef246394",
   "metadata": {
    "id": "yqQlWMQLqId7"
   },
   "source": [
    "#### 11. Multiply a 5x3 matrix (ones) by a 3x2 matrix (ones) - real matrix product "
   ]
  },
  {
   "cell_type": "code",
   "execution_count": 10,
   "id": "4fdd077d",
   "metadata": {
    "id": "G1W4U5IdqId7",
    "scrolled": true
   },
   "outputs": [],
   "source": [
    "#11"
   ]
  },
  {
   "cell_type": "markdown",
   "id": "44446742",
   "metadata": {},
   "source": [
    "### Exercise 2"
   ]
  },
  {
   "cell_type": "markdown",
   "id": "a064d746",
   "metadata": {},
   "source": [
    "We have been able to collect data for 4 flats below: Their `surface` (square feet), `bedrooms` and `floors` numbers are the 3 **features** of our problem, and the `price` (in thousands of $) is our **target**:\n",
    "\n",
    "|flats |surface|bedrooms|floors|price|\n",
    "|------|-------------|--------|------|------------|\n",
    "|flat1 |620|1|1|244|\n",
    "|flat2 |3280|4|2|671|\n",
    "|flat3 |1900|2|2|504|\n",
    "|flat4 |1320|3|3|510|\n",
    "\n",
    "A first approach is to try to find a **linear** relation between the `price` and the 3 features, by solving this system of equations:\n",
    "\n",
    "$$\\begin{cases}\n",
    "    244 = \\theta_0 + 620\\theta_1 + 1\\theta_2 + 1\\theta_3 \\\\\n",
    "    671 = \\theta_0 + 3280\\theta_1 + 4\\theta_2 + 2\\theta_3 \\\\\n",
    "    504 = \\theta_0 + 1900\\theta_1 + 2\\theta_2 + 2\\theta_3 \\\\\n",
    "    510 = \\theta_0 + 1320\\theta_1 + 3\\theta_2 + 3\\theta_3\n",
    "\\end{cases}$$\n",
    "\n",
    "Which can be translated into a matricial equation:\n",
    "\n",
    "$$Y = X\\theta$$\n",
    "\n",
    "$$\\begin{bmatrix}\n",
    "    244 \\\\\n",
    "    671 \\\\\n",
    "    504 \\\\\n",
    "    510\n",
    "\\end{bmatrix} = \\begin{bmatrix}\n",
    "    1 & 620 & 1 & 1 \\\\\n",
    "    1 & 3280 & 4 & 2 \\\\\n",
    "    1 & 1900 & 2 & 2 \\\\\n",
    "    1 & 1320 & 3 & 3\n",
    "\\end{bmatrix} \\begin{bmatrix}\n",
    "    \\theta_1 \\\\\n",
    "    \\theta_2 \\\\\n",
    "    \\theta_3 \\\\\n",
    "    \\theta_4\n",
    "\\end{bmatrix}$$\n",
    "\n",
    "where $Y$ is the vector of `Price`, $X$ is the matrix of features and $\\theta$ (theta) is the vector of coefficients to be found.\n",
    "\n",
    "If $\\theta$ is found, the price of any new flat could be estimated using $$Y_{flat5} = X_{flat5}\\theta$$"
   ]
  },
  {
   "cell_type": "markdown",
   "id": "ad0e73b2",
   "metadata": {},
   "source": [
    "### 1 Define the matrix `X` of features"
   ]
  },
  {
   "cell_type": "markdown",
   "id": "092a11b5",
   "metadata": {},
   "source": [
    "#### a) "
   ]
  },
  {
   "cell_type": "markdown",
   "id": "98385828",
   "metadata": {},
   "source": [
    "Create a (4,3) `numpy.ndarray` storing the values of the 3 features (surface, bedrooms, floors) for the 4 observations. Double check its `shape`, `size` and `dim`"
   ]
  },
  {
   "cell_type": "code",
   "execution_count": 11,
   "id": "d8295a35",
   "metadata": {},
   "outputs": [],
   "source": [
    "#a"
   ]
  },
  {
   "cell_type": "markdown",
   "id": "fcc9b150",
   "metadata": {},
   "source": [
    "#### b)"
   ]
  },
  {
   "cell_type": "markdown",
   "id": "38df1f8d",
   "metadata": {},
   "source": [
    "Create a \"constant\" vector of 1's, checking its shape."
   ]
  },
  {
   "cell_type": "code",
   "execution_count": 12,
   "id": "186584b7",
   "metadata": {},
   "outputs": [],
   "source": [
    "#b"
   ]
  },
  {
   "cell_type": "markdown",
   "id": "3893ddbc",
   "metadata": {},
   "source": [
    "### c)"
   ]
  },
  {
   "cell_type": "markdown",
   "id": "628e4ced",
   "metadata": {},
   "source": [
    "Use `numpy.hstack` to create the (4,4) matrix X by concatenating the vector in b) with the matrix in a)"
   ]
  },
  {
   "cell_type": "code",
   "execution_count": 13,
   "id": "fb624bdf",
   "metadata": {
    "scrolled": true
   },
   "outputs": [],
   "source": [
    "#c"
   ]
  },
  {
   "cell_type": "markdown",
   "id": "ff1b5d9c",
   "metadata": {},
   "source": [
    "### 2 Define the vector `Y` of Prices"
   ]
  },
  {
   "cell_type": "markdown",
   "id": "2e21d5e0",
   "metadata": {},
   "source": [
    "$Y = \\begin{bmatrix}\n",
    "    244 \\\\\n",
    "    671 \\\\\n",
    "    504 \\\\\n",
    "    510\n",
    "\\end{bmatrix}$\n",
    "\n",
    "In order to match our matricial representation $Y = X\\theta$, what should be the shape of $Y$ ? Define $Y$ below\n",
    "\n",
    "Hint:\n",
    "\n",
    "Y should be a (4,1) array, equivalent to a flat \"vector\", represented vertically\n",
    "</details>"
   ]
  },
  {
   "cell_type": "code",
   "execution_count": 15,
   "id": "2c859833",
   "metadata": {},
   "outputs": [],
   "source": [
    "#2"
   ]
  },
  {
   "cell_type": "markdown",
   "id": "d2972e89",
   "metadata": {},
   "source": [
    "### 3 Find the solution of the system\n",
    "\n",
    "Now is the time to find the vector of coefficients $\\theta$ !\n",
    "\n",
    "The solution of the equation is:\n",
    " \n",
    "$$ X\\theta = Y \\\\\n",
    "\\Leftrightarrow X^{-1}X\\theta = X^{-1}Y \\\\\n",
    "\\Leftrightarrow \\theta = X^{-1}Y$$\n",
    "\n",
    "where $X^{-1}$ is the inverse of $X$."
   ]
  },
  {
   "cell_type": "markdown",
   "id": "648f4f80",
   "metadata": {},
   "source": [
    "### a)"
   ]
  },
  {
   "cell_type": "markdown",
   "id": "f5819873",
   "metadata": {},
   "source": [
    "Compute the inverse of the matrix X using the correct Numpy method."
   ]
  },
  {
   "cell_type": "code",
   "execution_count": 16,
   "id": "cd3d1254",
   "metadata": {},
   "outputs": [],
   "source": [
    "#a"
   ]
  },
  {
   "cell_type": "markdown",
   "id": "5c54d312",
   "metadata": {},
   "source": [
    "You can check if the inversion worked by testing:\n",
    "\n",
    "$$X^{-1}X = I_4$$\n",
    "where $I_4$ is the 4 by 4 identity matrix."
   ]
  },
  {
   "cell_type": "markdown",
   "id": "2424c7fe",
   "metadata": {},
   "source": [
    "### b)"
   ]
  },
  {
   "cell_type": "markdown",
   "id": "dce3c160",
   "metadata": {},
   "source": [
    "Define I4 using the correct Numpy method."
   ]
  },
  {
   "cell_type": "code",
   "execution_count": 17,
   "id": "1a2e56cc",
   "metadata": {},
   "outputs": [],
   "source": [
    "#b"
   ]
  },
  {
   "cell_type": "markdown",
   "id": "80a3173c",
   "metadata": {},
   "source": [
    "### c)"
   ]
  },
  {
   "cell_type": "markdown",
   "id": "17af973a",
   "metadata": {},
   "source": [
    "Now compute $X^{-1}X$."
   ]
  },
  {
   "cell_type": "code",
   "execution_count": 18,
   "id": "ba548491",
   "metadata": {},
   "outputs": [],
   "source": [
    "#c"
   ]
  },
  {
   "cell_type": "markdown",
   "id": "8d8b8ce3",
   "metadata": {},
   "source": [
    "Does it look like $I_4$?\n"
   ]
  },
  {
   "cell_type": "markdown",
   "id": "e579f1f2",
   "metadata": {},
   "source": [
    "#### d)"
   ]
  },
  {
   "cell_type": "markdown",
   "id": "2b46e31a",
   "metadata": {},
   "source": [
    "Compute $\\theta$ (remembering that $\\theta = X^{-1}Y$)."
   ]
  },
  {
   "cell_type": "code",
   "execution_count": 19,
   "id": "237c3eab",
   "metadata": {},
   "outputs": [],
   "source": [
    "#d"
   ]
  },
  {
   "cell_type": "markdown",
   "id": "6d999b5e",
   "metadata": {},
   "source": [
    "### 4. Estimation of a new flat price\n",
    "\n",
    "You finally solved the system finding $\\theta$, you are able to estimate the `Price` (in thousands of $) of a 5th flat given these characteristics:\n",
    "\n",
    "- `Surface`: 3000 $ft^2$\n",
    "- `Bedrooms`: 5 \n",
    "- `Floors`: 1\n",
    "\n",
    "with the following formula:\n",
    "\n",
    "$$Y_{flat5} = X_{flat5}\\theta$$"
   ]
  },
  {
   "cell_type": "markdown",
   "id": "b12825f4",
   "metadata": {},
   "source": [
    "Create X5 from the information above (not forgetting the constant) and use the formula above and our previous vector $\\theta$ to estimate the price (Y5) of this new flat. Print it to the screen."
   ]
  },
  {
   "cell_type": "code",
   "execution_count": 20,
   "id": "b68efbdf",
   "metadata": {},
   "outputs": [],
   "source": [
    "#4"
   ]
  },
  {
   "cell_type": "code",
   "execution_count": null,
   "id": "a7b693ca",
   "metadata": {},
   "outputs": [],
   "source": []
  }
 ],
 "metadata": {
  "kernelspec": {
   "display_name": "Python 3 (ipykernel)",
   "language": "python",
   "name": "python3"
  },
  "language_info": {
   "codemirror_mode": {
    "name": "ipython",
    "version": 3
   },
   "file_extension": ".py",
   "mimetype": "text/x-python",
   "name": "python",
   "nbconvert_exporter": "python",
   "pygments_lexer": "ipython3",
   "version": "3.9.7"
  }
 },
 "nbformat": 4,
 "nbformat_minor": 5
}
