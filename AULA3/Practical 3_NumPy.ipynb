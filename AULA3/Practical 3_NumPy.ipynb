{
 "cells": [
  {
   "cell_type": "markdown",
   "id": "4fe723ed",
   "metadata": {},
   "source": [
    "## Practical 3"
   ]
  },
  {
   "cell_type": "markdown",
   "id": "be425d17",
   "metadata": {},
   "source": [
    "\n",
    "In this class, you will be asked to solve 2 exercises about NumPy.\n",
    "\n",
    "Good work!"
   ]
  },
  {
   "cell_type": "markdown",
   "id": "1c7796b0",
   "metadata": {
    "id": "JCS8qGI-qIdR"
   },
   "source": [
    "### Exercise 1"
   ]
  },
  {
   "cell_type": "markdown",
   "id": "a3cf8a01",
   "metadata": {},
   "source": [
    "#### 1. Import the numpy package under the name np¶"
   ]
  },
  {
   "cell_type": "code",
   "id": "b8d7a505",
   "metadata": {
    "_uuid": "1f42e0ab79d92a23b119e23ab8dda63393447466",
    "id": "0vWNoennqIdW",
    "ExecuteTime": {
     "end_time": "2024-10-01T10:31:19.558987Z",
     "start_time": "2024-10-01T10:31:19.515185Z"
    }
   },
   "source": [
    "#1\n",
    "import numpy as np"
   ],
   "outputs": [],
   "execution_count": 1
  },
  {
   "cell_type": "markdown",
   "id": "30c6fc2c",
   "metadata": {
    "_uuid": "77978f9afb5f957440f180861ccb06c2f644c317",
    "id": "SU_B78KIqIdZ"
   },
   "source": [
    "#### 2. Create a null vector of size 10 "
   ]
  },
  {
   "cell_type": "code",
   "execution_count": 33,
   "id": "6eacc93b",
   "metadata": {
    "_uuid": "beeb301d90b0fd6cb0f015969c969870bee981e8",
    "id": "qkv4vMHjqIdc"
   },
   "outputs": [
    {
     "data": {
      "text/plain": [
       "10"
      ]
     },
     "execution_count": 33,
     "metadata": {},
     "output_type": "execute_result"
    }
   ],
   "source": [
    "#2\n",
    "z=np.zeros(10)\n",
    "z.size"
   ]
  },
  {
   "cell_type": "markdown",
   "id": "6d0f7991",
   "metadata": {
    "_uuid": "c75ba6ea73f0a23f837c1553a0f564fbb8748557",
    "id": "kFbQmIZvqIdd"
   },
   "source": [
    "#### 3.  Create a null vector of size 10 but the fifth value which is 1 "
   ]
  },
  {
   "cell_type": "code",
   "execution_count": 35,
   "id": "312ca580",
   "metadata": {
    "_uuid": "a916d1332f7e1d7499fd9de3bb422651711df025",
    "id": "vsAn4TLDqIdd"
   },
   "outputs": [
    {
     "data": {
      "text/plain": [
       "array([0., 0., 0., 0., 1., 0., 0., 0., 0., 0.])"
      ]
     },
     "execution_count": 35,
     "metadata": {},
     "output_type": "execute_result"
    }
   ],
   "source": [
    "#3\n",
    "z[4]=1\n",
    "z"
   ]
  },
  {
   "cell_type": "markdown",
   "id": "df005bd8",
   "metadata": {
    "_uuid": "118478fd9f22dc99584c1517078f1cdd4a4b36fc",
    "id": "qxp5CFdVqIdf"
   },
   "source": [
    "#### 4.  Create a vector with values ranging from 10 to 49"
   ]
  },
  {
   "cell_type": "code",
   "execution_count": 39,
   "id": "28ec429c",
   "metadata": {
    "_uuid": "ac7cbc58129168a298298ae6d3a756a2a94c2a5d",
    "id": "Be2rGkWFqIdf"
   },
   "outputs": [
    {
     "data": {
      "text/plain": [
       "array([10, 11, 12, 13, 14, 15, 16, 17, 18, 19, 20, 21, 22, 23, 24, 25, 26,\n",
       "       27, 28, 29, 30, 31, 32, 33, 34, 35, 36, 37, 38, 39, 40, 41, 42, 43,\n",
       "       44, 45, 46, 47, 48, 49])"
      ]
     },
     "execution_count": 39,
     "metadata": {},
     "output_type": "execute_result"
    }
   ],
   "source": [
    "#4\n",
    "u=np.arange(10,50)\n",
    "u"
   ]
  },
  {
   "cell_type": "markdown",
   "id": "a75486a0",
   "metadata": {
    "_uuid": "886bef95cd1aa9af4133902b45b50127b5da54cb",
    "id": "cke0s58NqIdh"
   },
   "source": [
    "#### 5. Create a 10x10 array with random values and find the minimum and maximum values"
   ]
  },
  {
   "cell_type": "code",
   "execution_count": 83,
   "id": "fd42696a",
   "metadata": {
    "_uuid": "a8c13dc011c6afb824c3a7031330b6bd1a77e497",
    "id": "RwxoGujqqIdh"
   },
   "outputs": [
    {
     "name": "stdout",
     "output_type": "stream",
     "text": [
      "3.1754349613664856\n",
      "-1.8768646839571557\n"
     ]
    }
   ],
   "source": [
    "#5 \n",
    "i=np.random.randn(10,10)\n",
    "#print(i)\n",
    "print(i.max()) # i.max() == np.max(i)\n",
    "print(i.min()) # i.min() == np.min(i)"
   ]
  },
  {
   "cell_type": "markdown",
   "id": "648dc20b",
   "metadata": {
    "_uuid": "07db1e47dcff92113a6d4c696e92a5578b20d89f",
    "id": "A7GlPDbiqIdk"
   },
   "source": [
    "#### 6. Create a random vector of size 30 and find the mean value"
   ]
  },
  {
   "cell_type": "code",
   "execution_count": 85,
   "id": "8978fae6",
   "metadata": {
    "_uuid": "a6533f70b28d583e6e1926a0e3e668b465d6ef6c",
    "id": "ImM7M23TqIdy"
   },
   "outputs": [
    {
     "data": {
      "text/plain": [
       "-0.20928618150051062"
      ]
     },
     "execution_count": 85,
     "metadata": {},
     "output_type": "execute_result"
    }
   ],
   "source": [
    "#6\n",
    "o=np.random.randn(30)\n",
    "o.mean()"
   ]
  },
  {
   "cell_type": "markdown",
   "id": "05966111",
   "metadata": {
    "_uuid": "87fb9e8995db8ee27d3c209c840f3f2c6acb9bc5",
    "id": "Uq4kihMeqIdz"
   },
   "source": [
    "#### 7. Rescale a 5x5 random matrix, with a normalization and strandartization"
   ]
  },
  {
   "cell_type": "code",
   "execution_count": 94,
   "id": "aad53a01",
   "metadata": {
    "_uuid": "70b01b18cef5e31ffcc4c0219859e607e7a6d998",
    "id": "Sb52ZrgMqId0"
   },
   "outputs": [
    {
     "name": "stdout",
     "output_type": "stream",
     "text": [
      "[-0.92027449  0.1914875  -0.59047552 -1.41115929  2.0953886   2.56253118\n",
      "  0.01943997  0.93217779 -1.11255659 -1.6871565  -0.12119194  1.26696534\n",
      "  1.44634635  0.78993682  1.99205281  0.87740484  1.60016368  0.14403461\n",
      "  0.19240828  0.70959974 -1.1901828   0.86320466  0.22260358 -0.99829262\n",
      " -1.42545588]\n",
      "[[ 0.08513753  0.28928145  0.09892168 -1.72480645  0.1180485 ]\n",
      " [-0.73770931 -0.40925642  0.31611215 -1.40432888 -0.91249895]\n",
      " [ 3.07426536 -0.01365225  1.11859337  0.40663713  0.18950605]\n",
      " [-1.63079602 -0.62509158  0.24778797  0.78429686  0.71788481]\n",
      " [-0.94013622 -0.60498559  1.35303682 -0.05094371  0.25469569]]\n"
     ]
    }
   ],
   "source": [
    "#7\n",
    "p = np.random.randn(25)\n",
    "p.reshape(5,5)\n",
    "p = (p-p.min()/(p.max()-p.min()))\n",
    "print(p)\n",
    "\n",
    "a=np.random.randn(5,5)\n",
    "a=((a-a.mean())/a.std())\n",
    "print(a)\n"
   ]
  },
  {
   "cell_type": "markdown",
   "id": "fe91c6f9",
   "metadata": {
    "_uuid": "34f5d6e2e269678714f1e5aafec8a92d6411ecd3",
    "id": "IcKdyU-QqId2"
   },
   "source": [
    "#### 8. Create a random vector of size 10 and sort it"
   ]
  },
  {
   "cell_type": "code",
   "execution_count": 98,
   "id": "794bbab2",
   "metadata": {
    "_uuid": "650bd640404dd8cfdbeb0d91b8fc5ea844ee60a8",
    "id": "0kHCX0g9qId2",
    "scrolled": true
   },
   "outputs": [
    {
     "data": {
      "text/plain": [
       "array([-2.11483094, -1.73601494, -1.44219172, -1.17960312, -1.07265115,\n",
       "       -0.35272707,  0.34058242,  1.21395024,  1.736728  ,  1.89999289])"
      ]
     },
     "execution_count": 98,
     "metadata": {},
     "output_type": "execute_result"
    }
   ],
   "source": [
    "#8\n",
    "s = np.random.randn(10)\n",
    "s.sort()\n",
    "s"
   ]
  },
  {
   "cell_type": "markdown",
   "id": "0ad983e0",
   "metadata": {
    "_uuid": "353f854c6c99f2889b0d31cc69bc1fd7fccd0fe1",
    "id": "76pSb0xIqId3"
   },
   "source": [
    "#### 9. Create random vector of size 10 and replace the maximum value by 0 "
   ]
  },
  {
   "cell_type": "code",
   "execution_count": 102,
   "id": "5d2f33f6",
   "metadata": {
    "_uuid": "fd9c6de99887f58497e8880f38b8aab24beaef6a",
    "id": "hOPjruG7qId4"
   },
   "outputs": [
    {
     "data": {
      "text/plain": [
       "array([-2.11483094, -1.73601494, -1.44219172, -1.17960312, -1.07265115,\n",
       "       -0.35272707,  0.34058242,  1.21395024,  0.        ,  0.        ])"
      ]
     },
     "execution_count": 102,
     "metadata": {},
     "output_type": "execute_result"
    }
   ],
   "source": [
    "#9\n",
    "s[s.argmax()] = 0\n",
    "s"
   ]
  },
  {
   "cell_type": "markdown",
   "id": "f884360a",
   "metadata": {
    "id": "DJSsJFHeqId6"
   },
   "source": [
    "#### 10. Create a vector with values ranging from 0 to 9. Replace all odd numbers in the array with -1\n"
   ]
  },
  {
   "cell_type": "code",
   "execution_count": 108,
   "id": "765dc603",
   "metadata": {
    "id": "JZS-8YZTqId7"
   },
   "outputs": [
    {
     "name": "stdout",
     "output_type": "stream",
     "text": [
      "[ 0 -1  2 -1  4 -1  6 -1  8 -1]\n"
     ]
    }
   ],
   "source": [
    "#10\n",
    "d=np.arange(0,10)\n",
    "d[d%2==1] = -1\n",
    "print(d)"
   ]
  },
  {
   "cell_type": "markdown",
   "id": "ef246394",
   "metadata": {
    "id": "yqQlWMQLqId7"
   },
   "source": [
    "#### 11. Multiply a 5x3 matrix (ones) by a 3x2 matrix (ones) - real matrix product "
   ]
  },
  {
   "cell_type": "code",
   "execution_count": 112,
   "id": "4fdd077d",
   "metadata": {
    "id": "G1W4U5IdqId7",
    "scrolled": true
   },
   "outputs": [],
   "source": [
    "#11\n",
    "f=np.dot(np.ones(5,3)), np.ones(3,2)\n",
    "print(f)"
   ]
  },
  {
   "cell_type": "markdown",
   "id": "44446742",
   "metadata": {},
   "source": [
    "### Exercise 2"
   ]
  },
  {
   "cell_type": "markdown",
   "id": "a064d746",
   "metadata": {},
   "source": [
    "We have been able to collect data for 4 flats below: Their `surface` (square feet), `bedrooms` and `floors` numbers are the 3 **features** of our problem, and the `price` (in thousands of $) is our **target**:\n",
    "\n",
    "|flats |surface|bedrooms|floors|price|\n",
    "|------|-------------|--------|------|------------|\n",
    "|flat1 |620|1|1|244|\n",
    "|flat2 |3280|4|2|671|\n",
    "|flat3 |1900|2|2|504|\n",
    "|flat4 |1320|3|3|510|\n",
    "\n",
    "A first approach is to try to find a **linear** relation between the `price` and the 3 features, by solving this system of equations:\n",
    "\n",
    "$$\\begin{cases}\n",
    "    244 = \\theta_0 + 620\\theta_1 + 1\\theta_2 + 1\\theta_3 \\\\\n",
    "    671 = \\theta_0 + 3280\\theta_1 + 4\\theta_2 + 2\\theta_3 \\\\\n",
    "    504 = \\theta_0 + 1900\\theta_1 + 2\\theta_2 + 2\\theta_3 \\\\\n",
    "    510 = \\theta_0 + 1320\\theta_1 + 3\\theta_2 + 3\\theta_3\n",
    "\\end{cases}$$\n",
    "\n",
    "Which can be translated into a matricial equation:\n",
    "\n",
    "$$Y = X\\theta$$\n",
    "\n",
    "$$\\begin{bmatrix}\n",
    "    244 \\\\\n",
    "    671 \\\\\n",
    "    504 \\\\\n",
    "    510\n",
    "\\end{bmatrix} = \\begin{bmatrix}\n",
    "    1 & 620 & 1 & 1 \\\\\n",
    "    1 & 3280 & 4 & 2 \\\\\n",
    "    1 & 1900 & 2 & 2 \\\\\n",
    "    1 & 1320 & 3 & 3\n",
    "\\end{bmatrix} \\begin{bmatrix}\n",
    "    \\theta_1 \\\\\n",
    "    \\theta_2 \\\\\n",
    "    \\theta_3 \\\\\n",
    "    \\theta_4\n",
    "\\end{bmatrix}$$\n",
    "\n",
    "where $Y$ is the vector of `Price`, $X$ is the matrix of features and $\\theta$ (theta) is the vector of coefficients to be found.\n",
    "\n",
    "If $\\theta$ is found, the price of any new flat could be estimated using $$Y_{flat5} = X_{flat5}\\theta$$"
   ]
  },
  {
   "cell_type": "markdown",
   "id": "ad0e73b2",
   "metadata": {},
   "source": [
    "### 1 Define the matrix `X` of features"
   ]
  },
  {
   "cell_type": "markdown",
   "id": "092a11b5",
   "metadata": {},
   "source": [
    "#### a) "
   ]
  },
  {
   "cell_type": "markdown",
   "id": "98385828",
   "metadata": {},
   "source": [
    "Create a (4,3) `numpy.ndarray` storing the values of the 3 features (surface, bedrooms, floors) for the 4 observations. Double check its `shape`, `size` and `dim`"
   ]
  },
  {
   "cell_type": "code",
   "execution_count": 130,
   "id": "d8295a35",
   "metadata": {},
   "outputs": [
    {
     "data": {
      "text/plain": [
       "array([[ 620,    1,    1],\n",
       "       [3280,    4,    2],\n",
       "       [1900,    2,    2],\n",
       "       [1320,    3,    3]])"
      ]
     },
     "execution_count": 130,
     "metadata": {},
     "output_type": "execute_result"
    }
   ],
   "source": [
    "#a\n",
    "arr = np.array([(620,1,1), (3280,4,2), (1900,2,2), (1320,3,3)], dtype=int)\n",
    "arr"
   ]
  },
  {
   "cell_type": "markdown",
   "id": "fcc9b150",
   "metadata": {},
   "source": [
    "#### b)"
   ]
  },
  {
   "cell_type": "markdown",
   "id": "38df1f8d",
   "metadata": {},
   "source": [
    "Create a \"constant\" vector of 1's, checking its shape."
   ]
  },
  {
   "cell_type": "code",
   "execution_count": 12,
   "id": "186584b7",
   "metadata": {},
   "outputs": [],
   "source": [
    "#b"
   ]
  },
  {
   "cell_type": "markdown",
   "id": "3893ddbc",
   "metadata": {},
   "source": [
    "### c)"
   ]
  },
  {
   "cell_type": "markdown",
   "id": "628e4ced",
   "metadata": {},
   "source": [
    "Use `numpy.hstack` to create the (4,4) matrix X by concatenating the vector in b) with the matrix in a)"
   ]
  },
  {
   "cell_type": "code",
   "execution_count": 13,
   "id": "fb624bdf",
   "metadata": {
    "scrolled": true
   },
   "outputs": [],
   "source": [
    "#c"
   ]
  },
  {
   "cell_type": "markdown",
   "id": "ff1b5d9c",
   "metadata": {},
   "source": [
    "### 2 Define the vector `Y` of Prices"
   ]
  },
  {
   "cell_type": "markdown",
   "id": "2e21d5e0",
   "metadata": {},
   "source": [
    "$Y = \\begin{bmatrix}\n",
    "    244 \\\\\n",
    "    671 \\\\\n",
    "    504 \\\\\n",
    "    510\n",
    "\\end{bmatrix}$\n",
    "\n",
    "In order to match our matricial representation $Y = X\\theta$, what should be the shape of $Y$ ? Define $Y$ below\n",
    "\n",
    "Hint:\n",
    "\n",
    "Y should be a (4,1) array, equivalent to a flat \"vector\", represented vertically\n",
    "</details>"
   ]
  },
  {
   "cell_type": "code",
   "execution_count": 15,
   "id": "2c859833",
   "metadata": {},
   "outputs": [],
   "source": [
    "#2"
   ]
  },
  {
   "cell_type": "markdown",
   "id": "d2972e89",
   "metadata": {},
   "source": [
    "### 3 Find the solution of the system\n",
    "\n",
    "Now is the time to find the vector of coefficients $\\theta$ !\n",
    "\n",
    "The solution of the equation is:\n",
    " \n",
    "$$ X\\theta = Y \\\\\n",
    "\\Leftrightarrow X^{-1}X\\theta = X^{-1}Y \\\\\n",
    "\\Leftrightarrow \\theta = X^{-1}Y$$\n",
    "\n",
    "where $X^{-1}$ is the inverse of $X$."
   ]
  },
  {
   "cell_type": "markdown",
   "id": "648f4f80",
   "metadata": {},
   "source": [
    "### a)"
   ]
  },
  {
   "cell_type": "markdown",
   "id": "f5819873",
   "metadata": {},
   "source": [
    "Compute the inverse of the matrix X using the correct Numpy method."
   ]
  },
  {
   "cell_type": "code",
   "execution_count": 16,
   "id": "cd3d1254",
   "metadata": {},
   "outputs": [],
   "source": [
    "#a"
   ]
  },
  {
   "cell_type": "markdown",
   "id": "5c54d312",
   "metadata": {},
   "source": [
    "You can check if the inversion worked by testing:\n",
    "\n",
    "$$X^{-1}X = I_4$$\n",
    "where $I_4$ is the 4 by 4 identity matrix."
   ]
  },
  {
   "cell_type": "markdown",
   "id": "2424c7fe",
   "metadata": {},
   "source": [
    "### b)"
   ]
  },
  {
   "cell_type": "markdown",
   "id": "dce3c160",
   "metadata": {},
   "source": [
    "Define I4 using the correct Numpy method."
   ]
  },
  {
   "cell_type": "code",
   "execution_count": 17,
   "id": "1a2e56cc",
   "metadata": {},
   "outputs": [],
   "source": [
    "#b"
   ]
  },
  {
   "cell_type": "markdown",
   "id": "80a3173c",
   "metadata": {},
   "source": [
    "### c)"
   ]
  },
  {
   "cell_type": "markdown",
   "id": "17af973a",
   "metadata": {},
   "source": [
    "Now compute $X^{-1}X$."
   ]
  },
  {
   "cell_type": "code",
   "execution_count": 18,
   "id": "ba548491",
   "metadata": {},
   "outputs": [],
   "source": [
    "#c"
   ]
  },
  {
   "cell_type": "markdown",
   "id": "8d8b8ce3",
   "metadata": {},
   "source": [
    "Does it look like $I_4$?\n"
   ]
  },
  {
   "cell_type": "markdown",
   "id": "e579f1f2",
   "metadata": {},
   "source": [
    "#### d)"
   ]
  },
  {
   "cell_type": "markdown",
   "id": "2b46e31a",
   "metadata": {},
   "source": [
    "Compute $\\theta$ (remembering that $\\theta = X^{-1}Y$)."
   ]
  },
  {
   "cell_type": "code",
   "execution_count": 19,
   "id": "237c3eab",
   "metadata": {},
   "outputs": [],
   "source": [
    "#d"
   ]
  },
  {
   "cell_type": "markdown",
   "id": "6d999b5e",
   "metadata": {},
   "source": [
    "### 4. Estimation of a new flat price\n",
    "\n",
    "You finally solved the system finding $\\theta$, you are able to estimate the `Price` (in thousands of $) of a 5th flat given these characteristics:\n",
    "\n",
    "- `Surface`: 3000 $ft^2$\n",
    "- `Bedrooms`: 5 \n",
    "- `Floors`: 1\n",
    "\n",
    "with the following formula:\n",
    "\n",
    "$$Y_{flat5} = X_{flat5}\\theta$$"
   ]
  },
  {
   "cell_type": "markdown",
   "id": "b12825f4",
   "metadata": {},
   "source": [
    "Create X5 from the information above (not forgetting the constant) and use the formula above and our previous vector $\\theta$ to estimate the price (Y5) of this new flat. Print it to the screen."
   ]
  },
  {
   "cell_type": "code",
   "execution_count": 20,
   "id": "b68efbdf",
   "metadata": {},
   "outputs": [],
   "source": [
    "#4"
   ]
  },
  {
   "cell_type": "code",
   "execution_count": null,
   "id": "a7b693ca",
   "metadata": {},
   "outputs": [],
   "source": []
  }
 ],
 "metadata": {
  "kernelspec": {
   "display_name": "Python 3 (ipykernel)",
   "language": "python",
   "name": "python3"
  },
  "language_info": {
   "codemirror_mode": {
    "name": "ipython",
    "version": 3
   },
   "file_extension": ".py",
   "mimetype": "text/x-python",
   "name": "python",
   "nbconvert_exporter": "python",
   "pygments_lexer": "ipython3",
   "version": "3.12.4"
  }
 },
 "nbformat": 4,
 "nbformat_minor": 5
}
