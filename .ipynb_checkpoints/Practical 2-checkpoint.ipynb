{
 "cells": [
  {
   "cell_type": "markdown",
   "id": "6d9f6b41",
   "metadata": {},
   "source": [
    "# Exercise 1 - Review variables, print and open functions \n",
    "\n",
    "<p>The objective of this program is to ask the user for certain information and then print this information on a file with the user name (first and last name) and extension .txt</p>\n",
    "\n",
    "<p>Requested information:\n",
    "<p>    1. First name\n",
    "<p>    2. Last name\n",
    "<p>    3. Age\n",
    "<p>    4. Email\n",
    "    \n",
    "<p>File name format:\n",
    "<p>    firstname_lastname.txt<p>"
   ]
  },
  {
   "cell_type": "code",
   "execution_count": null,
   "id": "c40cd871",
   "metadata": {},
   "outputs": [],
   "source": [
    "#Answer here"
   ]
  },
  {
   "cell_type": "markdown",
   "id": "e6b700c2",
   "metadata": {},
   "source": [
    "# Exercise 2 - Open and analyse a csv file\n",
    "\n",
    "The objective of this exercise is open, read and analyze a csv file.\n",
    "The iris.csv is very popular dataset. The dataset consists of measurements of four features (attributes) of iris flowers:\n",
    "\n",
    "    sepal.length: Length of the sepal (the green leaf-like structure that protects the flower bud).\n",
    "\n",
    "    sepal.width: Width of the sepal.\n",
    "\n",
    "    petal.length: Length of the petal (the colorful part of the flower).\n",
    "\n",
    "    petal.width: Width of the petal.\n",
    "\n",
    "\n",
    "The fifth column indicates the species of iris.\n",
    "\n",
    "Each row in the dataset represents the measurements of a single iris flower. \n",
    "\n",
    "Please, answer the following questions:"
   ]
  },
  {
   "cell_type": "markdown",
   "id": "a95002c4",
   "metadata": {},
   "source": [
    "### Question 1: Import the csv and print it"
   ]
  },
  {
   "cell_type": "code",
   "execution_count": null,
   "id": "c471d88d",
   "metadata": {},
   "outputs": [],
   "source": [
    "#Answer here"
   ]
  },
  {
   "cell_type": "markdown",
   "id": "d5e91e81",
   "metadata": {},
   "source": [
    "### Question 2 : How many flower measurements are there in the dataset?"
   ]
  },
  {
   "cell_type": "code",
   "execution_count": null,
   "id": "8605146d",
   "metadata": {},
   "outputs": [],
   "source": [
    "#Answer here\n"
   ]
  },
  {
   "cell_type": "markdown",
   "id": "9fe5c9f1",
   "metadata": {},
   "source": [
    "### Question 3 : What iris species exist in the dataset?"
   ]
  },
  {
   "cell_type": "code",
   "execution_count": null,
   "id": "72f6d2a7",
   "metadata": {},
   "outputs": [],
   "source": [
    "#Answer here\n",
    "\n"
   ]
  },
  {
   "cell_type": "markdown",
   "id": "12c81815",
   "metadata": {},
   "source": [
    "### Question 4: Compute the average of each feature "
   ]
  },
  {
   "cell_type": "code",
   "execution_count": null,
   "id": "e1af69f7",
   "metadata": {},
   "outputs": [],
   "source": [
    "#Answer here"
   ]
  },
  {
   "cell_type": "code",
   "execution_count": null,
   "id": "a2108eae",
   "metadata": {},
   "outputs": [],
   "source": []
  }
 ],
 "metadata": {
  "kernelspec": {
   "display_name": "Python 3 (ipykernel)",
   "language": "python",
   "name": "python3"
  },
  "language_info": {
   "codemirror_mode": {
    "name": "ipython",
    "version": 3
   },
   "file_extension": ".py",
   "mimetype": "text/x-python",
   "name": "python",
   "nbconvert_exporter": "python",
   "pygments_lexer": "ipython3",
   "version": "3.9.7"
  }
 },
 "nbformat": 4,
 "nbformat_minor": 5
}
