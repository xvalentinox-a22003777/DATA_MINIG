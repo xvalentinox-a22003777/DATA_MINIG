{
 "cells": [
  {
   "cell_type": "markdown",
   "id": "4c9299f9",
   "metadata": {},
   "source": [
    "# Assignment 1:  Numpy, Pandas, Matplotlib and Data Wrangling\n",
    "\n",
    "This task contains 3 main questions with details as below. The due date is October 22 (Tuesday), 2024, at 11:59 pm. Each day late will result in a loss of 20% of your total points. Please upload a `.ipynb` file with your solved notebook on Moodle.\n",
    "\n",
    "Good job! To enjoy!"
   ]
  },
  {
   "cell_type": "markdown",
   "id": "e42d8be4",
   "metadata": {
    "id": "F84GV8jU_yxG"
   },
   "source": [
    "### Question 1 (5,0 values) Spike Triggered Average\n",
    "\n",
    "Welcome to the world of neuroscience! <br>\n",
    "In this exercise you will have the opportunity to be gently introduced to the magnificent world of how your brain  executes what you think! \n",
    "\n",
    "<img src=\"brain.jpg\" alt=\"brain\" width=\"50%\">\n",
    "\n",
    "The brain is perhaps our most complex vital living organ, meaning that the multitude of years of research so far is still not sufficient to understand how such an organ behaves.\n",
    " <br>\n",
    "\n",
    "Biologically, the brain is formed by a particular form of cells that are called <strong>neurons</strong>. Such neurons are electrically excitable cells that communicate with one another via specialized connections named <strong>synapses</strong>. These connections allow the transmission of chemical and electrical signals across neurons. In very high-level terms, such a process gives birth to the human thought, giving us the possibility to carry out our ordinary life tasks and habits, such as talking with friends, eating, drinking, studying, and so on and so forth.\n",
    "Moreover, it is possible to say that communication across two neurons is experienced when we observe a <strong>spike</strong>, which is solicited by an electrical <strong>stimulus</strong> (through time). <br> \n",
    "As an example, imagine you are on your sofa watching your favorite movie: each photogram of the video you see from your eyes will be converted into a sequence of electrical signals, which we previously defined as <strong>stimulus</strong> (this is the scientific term). Then the stimulus flows in the network of your neurons, potentially activating their effects on your behavior. Specifically, if you watch a love scene, some neurons of the brain may <strong>spike</strong> (actually they are activated), potentially making you feel pleased and emotional. On the contrary, if you watch a violent scene, some other neurons may spike, potentially making you feel sad and uncomfortable. This is an abstract example talking about emotions, but bear in mind that examples of this kind are extendable to more practical activities such as the ones mentioned in the paragraph above. \n",
    "\n",
    "Practically speaking, in this exercise, you will analyze a stimulus and consequantly how it affects the spikes of a single neuron. <strong>Data is randomly generated</strong>, but it simulates perfectly the setting depicted above. In the end, you will compute the <strong>Spike-Triggered Average</strong> (STA), which, given a fixed time window, approximates the stimulus's behavior before a spike occurs. This is a time-wise average, meaning that, given many <strong>fixed-in-length time-sequences</strong> (same milliseconds long in this case) of the same stimulus, we average the sequences at their values at each millisecond step. \n",
    "\n",
    "Some clarifications: \n",
    "\n",
    "You will be provided with two time-series, one with the stimulus and the other one with the spikes. The latter series maps to the former, of course.\n",
    "Stimulus varies in time, specifically milliseconds (ms), meaning that each element in the stimulus is an electrical signal at a single millisecond. Whereas, the spikes are in binary form: 1 if a spike occurred, 0 if a spike did not occur at that specific milliseconds. "
   ]
  },
  {
   "cell_type": "code",
   "id": "3506b00c",
   "metadata": {
    "id": "vVU1BEkgAQJP",
    "ExecuteTime": {
     "end_time": "2024-10-22T16:55:38.722391Z",
     "start_time": "2024-10-22T16:55:38.607948Z"
    }
   },
   "source": [
    "# Import Dependencies \n",
    "\n",
    "import numpy as np # DON'T CHANGE THIS LINE \n",
    "import pickle # DON'T CHANGE THIS LINE "
   ],
   "outputs": [],
   "execution_count": 1
  },
  {
   "cell_type": "code",
   "id": "bfbcfe9b",
   "metadata": {
    "id": "LH4eFNIRAW8Z",
    "ExecuteTime": {
     "end_time": "2024-10-22T16:55:39.236890Z",
     "start_time": "2024-10-22T16:55:39.221685Z"
    }
   },
   "source": [
    "# Load Data \n",
    "\n",
    "path = \"data.pickle\" # Make sure the dataset \"data.pickle\" is within the same folder of this notebook\n",
    "data = pickle.load(open(path, 'rb')) # DON'T CHANGE THIS LINE\n"
   ],
   "outputs": [],
   "execution_count": 2
  },
  {
   "cell_type": "code",
   "id": "80c8f65f",
   "metadata": {
    "id": "ZgcVppkPAaMR",
    "ExecuteTime": {
     "end_time": "2024-10-22T16:55:40.786555Z",
     "start_time": "2024-10-22T16:55:40.779079Z"
    }
   },
   "source": [
    "# Reference Data \n",
    "\n",
    "# DON'T CHANGE THESE 2 LINES \n",
    "stimulus = data['stim'] # Stimulus (in STA units) over time (in milliseconds units) - Artificial Data - type: numpy.ndarray\n",
    "rho = data['rho'] # Spikes - 0 or 1. 0 no spike, 1 yes spike - Mapping stimulus - type: numpy.ndarray"
   ],
   "outputs": [],
   "execution_count": 3
  },
  {
   "cell_type": "markdown",
   "id": "d5632ab0",
   "metadata": {
    "id": "pfkNG-wvAfQm"
   },
   "source": [
    "#### Question 1.1\n",
    "\n",
    "How many milliseconds does the `stimulus` provided above have? "
   ]
  },
  {
   "cell_type": "code",
   "execution_count": null,
   "id": "cf5cb8ad",
   "metadata": {
    "colab": {
     "base_uri": "https://localhost:8080/"
    },
    "id": "6hREPGC4AhKm",
    "outputId": "807999ee-2ca3-4cd9-edfe-5463845ef9ab"
   },
   "outputs": [],
   "source": [
    "# Question 1.1\n"
   ]
  },
  {
   "cell_type": "markdown",
   "id": "d7e7ba89",
   "metadata": {
    "id": "4sfaQH79_8T1"
   },
   "source": [
    "#### Question 1.2\n",
    "\n",
    "Filter out the low stimulus values. \n",
    "Set a minimum threshold of 10 STA units for the <strong> absolute value </strong> of the stimulus and filter out everything below it (do not change the original stimulus array).\n",
    "\n",
    "For example: \n",
    "<br>Consider stimulus = [-5.2345, 3.4564, 13.1245, -15.2356]<br>\n",
    "The final result should be: filtered_stimulus = [13.1245, -15.2356]\n",
    "\n",
    "Tip: Use \n",
    "<strong> print(filtered_stimulus[0:100]) </strong>\n",
    "to check if the first 100 values are beeing filtered correctly."
   ]
  },
  {
   "cell_type": "code",
   "execution_count": null,
   "id": "9b792ec9",
   "metadata": {
    "colab": {
     "base_uri": "https://localhost:8080/"
    },
    "id": "1brKFP9BAnum",
    "outputId": "c4473cce-c2e3-4345-ebaa-59a5efb81715"
   },
   "outputs": [],
   "source": [
    "# Question 1.2"
   ]
  },
  {
   "cell_type": "markdown",
   "id": "8230a5e4",
   "metadata": {
    "id": "t-cg1XaoAtVA"
   },
   "source": [
    "#### Question 1.3\n",
    "\n",
    "Compute the interquartile range of the values of the `stimulus` time series.\n",
    "\n",
    "  ℹ️<strong>interquartile_range = q75 - q25</strong>\n",
    "    <br> Where: q25 is the first quartile and q75 is the third quartile."
   ]
  },
  {
   "cell_type": "code",
   "execution_count": null,
   "id": "790d0bc5",
   "metadata": {
    "colab": {
     "base_uri": "https://localhost:8080/"
    },
    "id": "rrAd-P8QAz5s",
    "outputId": "1c757bf8-eaa0-4895-b1ad-2363bf586fcd"
   },
   "outputs": [],
   "source": [
    "# Question 1.3"
   ]
  },
  {
   "cell_type": "markdown",
   "id": "23e3ffa3",
   "metadata": {},
   "source": [
    "#### Question 1.4\n",
    "\n",
    "Find the position of the three maximums of the `stimulus` and replace these values with the average (do not change the original stimulus array)."
   ]
  },
  {
   "cell_type": "code",
   "execution_count": null,
   "id": "2a31a995",
   "metadata": {},
   "outputs": [],
   "source": [
    "# Question 1.4"
   ]
  },
  {
   "cell_type": "markdown",
   "id": "c25b0f49",
   "metadata": {
    "id": "LzBpLBqaA9hT"
   },
   "source": [
    "#### Question 1.5\n",
    "\n",
    "Compute the <strong>Spike Triggered Average</strong> as described previously with a time window of 300 ms. I.e. each sequence to be considered for the Spike Triggered Average should have a length of 300 ms. \n",
    "\n",
    "Here we provide a visual toy example of the Spike Triggered Average complementing what is described in the main passage:\n",
    "\n",
    "<img src=\"sta_example.png\" alt=\"img not available\" width=\"50%\">\n",
    "\n",
    "Each sequence is average (millisecond-wise) with a time window of 30 ms before a spike. Bear in mind that, in this question, you are asked to use 300 ms time window."
   ]
  },
  {
   "cell_type": "code",
   "execution_count": null,
   "id": "14e9c948",
   "metadata": {
    "colab": {
     "base_uri": "https://localhost:8080/"
    },
    "id": "uv3-m0PVBJSy",
    "outputId": "9049184d-1677-48de-bc09-1d337fb1d533"
   },
   "outputs": [],
   "source": [
    "# Question 1.5\n"
   ]
  },
  {
   "cell_type": "markdown",
   "id": "4bb21d5d",
   "metadata": {
    "id": "IzC00hRsBRCg"
   },
   "source": [
    "##### 🎯Check your answer - NOT GRADED"
   ]
  },
  {
   "cell_type": "code",
   "id": "99cb8d06",
   "metadata": {
    "id": "qY4TU6P_BVfZ",
    "ExecuteTime": {
     "end_time": "2024-10-22T16:55:47.379521Z",
     "start_time": "2024-10-22T16:55:46.064660Z"
    }
   },
   "source": [
    "import matplotlib.pyplot as plt # DON'T CHANGE THIS LINE \n",
    "import matplotlib.image as mpimg # DON'T CHANGE THIS LINE \n",
    "\n",
    "\n",
    "sta = sta # Please delete \"None\" and insert here your spike triggered average answer \n",
    "plt.plot(range(sta.shape[0]), sta) # DON'T CHANGE THIS LINE "
   ],
   "outputs": [
    {
     "ename": "NameError",
     "evalue": "name 'sta' is not defined",
     "output_type": "error",
     "traceback": [
      "\u001B[0;31m---------------------------------------------------------------------------\u001B[0m",
      "\u001B[0;31mNameError\u001B[0m                                 Traceback (most recent call last)",
      "Cell \u001B[0;32mIn[4], line 5\u001B[0m\n\u001B[1;32m      1\u001B[0m \u001B[38;5;28;01mimport\u001B[39;00m \u001B[38;5;21;01mmatplotlib\u001B[39;00m\u001B[38;5;21;01m.\u001B[39;00m\u001B[38;5;21;01mpyplot\u001B[39;00m \u001B[38;5;28;01mas\u001B[39;00m \u001B[38;5;21;01mplt\u001B[39;00m \u001B[38;5;66;03m# DON'T CHANGE THIS LINE \u001B[39;00m\n\u001B[1;32m      2\u001B[0m \u001B[38;5;28;01mimport\u001B[39;00m \u001B[38;5;21;01mmatplotlib\u001B[39;00m\u001B[38;5;21;01m.\u001B[39;00m\u001B[38;5;21;01mimage\u001B[39;00m \u001B[38;5;28;01mas\u001B[39;00m \u001B[38;5;21;01mmpimg\u001B[39;00m \u001B[38;5;66;03m# DON'T CHANGE THIS LINE \u001B[39;00m\n\u001B[0;32m----> 5\u001B[0m sta \u001B[38;5;241m=\u001B[39m \u001B[43msta\u001B[49m \u001B[38;5;66;03m# Please delete \"None\" and insert here your spike triggered average answer \u001B[39;00m\n\u001B[1;32m      6\u001B[0m plt\u001B[38;5;241m.\u001B[39mplot(\u001B[38;5;28mrange\u001B[39m(sta\u001B[38;5;241m.\u001B[39mshape[\u001B[38;5;241m0\u001B[39m]), sta) \u001B[38;5;66;03m# DON'T CHANGE THIS LINE \u001B[39;00m\n",
      "\u001B[0;31mNameError\u001B[0m: name 'sta' is not defined"
     ]
    }
   ],
   "execution_count": 4
  },
  {
   "cell_type": "markdown",
   "id": "e589b3a7",
   "metadata": {
    "id": "AZxYi5naBkli"
   },
   "source": [
    "<strong>If you did everything correct, your plot should look the same as the one below!</strong>\n",
    "\n",
    "<img src=\"sta_sample.png\" alt=\"no-picture\" align=\"left\"> <br><br><br><br><br><br><br><br><br><br><br><br><br>\n",
    "\n",
    "\n",
    "<strong>Congratulations! You have just learned how the brain works! Kudos to you! :)</strong>"
   ]
  },
  {
   "cell_type": "markdown",
   "id": "cdfd547b",
   "metadata": {
    "id": "sGbNFwTesp3m"
   },
   "source": [
    "<br><br>\n",
    "### Question 2 (7,0 values)  Aircraft Wildlife Strikes\n",
    "\n",
    "![](https://i.pinimg.com/400x/30/de/ee/30deee2cbc1aec96a1532c4a27962f0c--bird-strike-passenger-aircraft.jpg)\n",
    "\n",
    "The \"wildlifestrikes.csv\" dataset contains a record of each reported wildlife strike of military, commercial, or civil aircraft between 1990 and 2015. Each row contains the incident date, aircraft operator, aircraft make and model, engine make and model, airport name and location, species name and quantity, and aircraft damage.\n",
    "The wildlife strike database was compiled from reports received from airports, airlines, and pilots and published by the Federal Aviation Association. \n",
    "<br>"
   ]
  },
  {
   "cell_type": "markdown",
   "id": "fa98c259",
   "metadata": {
    "id": "CC3vUnLRw1Mc"
   },
   "source": [
    "**Question 2.1** \n",
    "\n",
    "Import the dataset \"wildlifestrikes.csv\" and show the ***total number of records***, the ***number of columns***, and how many ***unique species*** the dataset has.\n"
   ]
  },
  {
   "cell_type": "code",
   "execution_count": null,
   "id": "16f805ee",
   "metadata": {},
   "outputs": [],
   "source": [
    "import pandas as pd\n",
    "import numpy as np"
   ]
  },
  {
   "cell_type": "code",
   "execution_count": null,
   "id": "bb224d6a",
   "metadata": {
    "colab": {
     "base_uri": "https://localhost:8080/",
     "height": 138
    },
    "id": "SfJHJef5sD4_",
    "outputId": "0e01405e-b15d-444c-85a7-044a32f3f1e8"
   },
   "outputs": [],
   "source": [
    "# Question 2.1\n",
    "\n"
   ]
  },
  {
   "cell_type": "markdown",
   "id": "7b3187e1",
   "metadata": {
    "id": "TwpkkPbSw9h1"
   },
   "source": [
    "**Question 2.2** \n",
    "\n",
    "In 2000, what percentage of flights suffered a wild animal strike and had to perform a \"PRECAUTIONARY LANDing\"? (hint: check the \"Flight Impact\" column in the dataset). Report the result to two decimal places."
   ]
  },
  {
   "cell_type": "code",
   "execution_count": null,
   "id": "a8efe67a",
   "metadata": {
    "colab": {
     "base_uri": "https://localhost:8080/",
     "height": 252
    },
    "id": "S88fav5Tw-Ls",
    "outputId": "b6a6221a-d06f-4bb8-c1c4-8407950d8aea"
   },
   "outputs": [],
   "source": [
    "# Question 2.2\n"
   ]
  },
  {
   "cell_type": "markdown",
   "id": "e325f63f",
   "metadata": {
    "id": "ugS4DKHq7IJ9"
   },
   "source": [
    "**Question 2.3** \n",
    "\n",
    "What was the year with the highest fatalities due to a wildlife strike? (hint: check the column \"Fatalities\" on the dataset)"
   ]
  },
  {
   "cell_type": "code",
   "execution_count": null,
   "id": "ca1c3255",
   "metadata": {
    "colab": {
     "base_uri": "https://localhost:8080/",
     "height": 900
    },
    "id": "jII69R7x7Dxq",
    "outputId": "1460c42c-ab79-40c2-b358-22ae0f59d809"
   },
   "outputs": [],
   "source": [
    "# Question 2.3\n"
   ]
  },
  {
   "cell_type": "markdown",
   "id": "d9b0456f",
   "metadata": {
    "id": "w8-PCECfw-Z9"
   },
   "source": [
    "**Question 2.4** \n",
    "\n",
    "Find the top 5 species that caused engine damage on the aircraft after striking it (remember that there are up to 4 different possible engines on an aircraft). For this exercise, you can consider unknown species."
   ]
  },
  {
   "cell_type": "code",
   "execution_count": null,
   "id": "84090908",
   "metadata": {
    "colab": {
     "base_uri": "https://localhost:8080/",
     "height": 50
    },
    "id": "mH2xQ2-zxD0G",
    "outputId": "7aa64ceb-6a34-4753-cf82-59395bb2301c"
   },
   "outputs": [],
   "source": [
    "# Question 2.4\n",
    "\n",
    "\n",
    "\n",
    "\n"
   ]
  },
  {
   "cell_type": "markdown",
   "id": "c78aa26e",
   "metadata": {
    "id": "bK62NqxLxDBp"
   },
   "source": [
    "**Question 2.5** \n",
    "\n",
    "Find the name of the specie that was responsible for the most incidents and indicate the total number of incidents caused by it. The result cannot be an unknown bird."
   ]
  },
  {
   "cell_type": "code",
   "execution_count": null,
   "id": "92fdd65f",
   "metadata": {
    "colab": {
     "base_uri": "https://localhost:8080/",
     "height": 118
    },
    "id": "px9jPItpxHwV",
    "outputId": "d2bdc3af-11fa-42a4-ec64-d9378cc31ad5"
   },
   "outputs": [],
   "source": [
    "# Question 2.5\n",
    "\n"
   ]
  },
  {
   "cell_type": "markdown",
   "id": "70a0deca",
   "metadata": {},
   "source": [
    "**Question 2.6**  Show how many incidents occurred every five years (i.e. total number of incidents for each of the following time intervals: (1990, 1995], (1995, 2000], (2000, 2005], (2005, 2010], and (2010,2015]). Note that the time intervals are open on the left and closed on the right."
   ]
  },
  {
   "cell_type": "code",
   "execution_count": null,
   "id": "43cf8545",
   "metadata": {},
   "outputs": [],
   "source": [
    "# Question 2.6\n"
   ]
  },
  {
   "cell_type": "markdown",
   "id": "74795318",
   "metadata": {},
   "source": [
    "**Question 2.7** \n",
    "\n",
    "Consider the five-time intervals: (1990, 1995], (1995, 2000], (2000, 2005], (2005, 2010], and (2010,2015]. Use a pivot_table to find out, ***on each time interval***, which type of aircraft (\"Aircraft\") got most frequently damaged (\"Aircraft Damage\") after a wildlife strike. (hint: First, do the pivot table with the total sum of the damage per each type of aircraft suffered at each time interval. After that, obtain the aircraft type with the highest value for each time interval.)"
   ]
  },
  {
   "cell_type": "code",
   "execution_count": null,
   "id": "9ef148e1",
   "metadata": {},
   "outputs": [],
   "source": [
    "# Question 2.7\n",
    "\n"
   ]
  },
  {
   "cell_type": "markdown",
   "id": "f4de4649",
   "metadata": {},
   "source": [
    "\n",
    "### Question 3 (8 values)- A Million Dollar Question: Squid Game or Alice in Borderland?\n",
    "\n",
    "\n",
    "“What TV sereis should I binge-watch this evening?” This perhaps is a question you would ask yourself very often. As for me — yes, and more than once. As such, from Netflix to Hulu, the need to build robust movie recommendation systems is extremely important given the huge demand for personalized content of modern consumers. **Netflix is forecasting it will add 3.5 million paying subscribers thanks to the surprise hit Squid Games**\n",
    "\n",
    "We are going to examine a MovieLens dataset which provides non-commercial, personalized movie recommendations. \n",
    "\n",
    "This dataset describes user ratings from MovieLens. It contains ratings and tag applications across movies created by  users. Users were selected at random for inclusion. No demographic information is included. Each user is represented by an id, and no other information is provided.\n",
    "\n",
    "The data are contained in the files movies_fe.xlsx, ratings_fe.csv. More details about the contents and use of all these files follows.\n",
    "\n",
    "**Ratings Data File Structure (ratings_fe.csv)**\n",
    "All ratings are contained in the file ratings_fe.csv. Each line of this file after the header row represents one rating of one movie by one user, and has the following format:\n",
    "`userId,movieId,rating,timestamp`\n",
    "\n",
    "The lines within this file are ordered first by userId, then, within user, by movieId.\n",
    "\n",
    "Ratings are made on a 5-star scale, with half-star increments (0.5 stars - 5.0 stars).\n",
    "\n",
    "**Movies Data File Structure (movies_fe.xlsx)**\n",
    "Movie information is contained in the file movies_fe.xlsx. Each line of this file after the header row represents one movie, and has the following format:\n",
    "`movieId,title,year,genres`\n",
    "\n",
    "Answer the following questions using the provided dataset. You can write down intermediate results towards the final answers"
   ]
  },
  {
   "cell_type": "code",
   "execution_count": null,
   "id": "29f290dc",
   "metadata": {},
   "outputs": [],
   "source": [
    "import pandas as pd\n",
    "import numpy as np"
   ]
  },
  {
   "cell_type": "markdown",
   "id": "9c97418b",
   "metadata": {},
   "source": [
    "#### Question 3.1\n",
    "\n",
    "However, there may be errors and inconsistencies in these files, as shown below:\n",
    "\n",
    "The ratings in the `rating_fe.csv` should be made on a 5-star scale, with half-star increments (0.5 stars - 5.0 stars). So if the ratings are larger than 5 or smaller than 0.5, you need to round it to the value of 5 and 1, respectively. For example, if a movie is rated 8, then it might be wrongly rated and you need to change the value to 5. Similarly, if a movie is rated negatively, e.g., -1, then it should be changed to 1, if any.\n",
    "\n",
    "The movie information in the `movies_fe.xlsx` contains the movies with the missing information about **year**. You should also remove them.\n",
    "\n",
    "You should also inspect the data to make sure the correct starting row of the data."
   ]
  },
  {
   "cell_type": "code",
   "execution_count": null,
   "id": "3ad71846",
   "metadata": {},
   "outputs": [],
   "source": [
    "# Question 3.1"
   ]
  },
  {
   "cell_type": "markdown",
   "id": "08cd4350",
   "metadata": {},
   "source": [
    "#### Question 3.2 \n",
    "\n",
    "Show the top 5 Action movies with the highest median ratings:"
   ]
  },
  {
   "cell_type": "code",
   "execution_count": null,
   "id": "dd5fe018",
   "metadata": {},
   "outputs": [],
   "source": [
    "# Question 3.2"
   ]
  },
  {
   "cell_type": "markdown",
   "id": "1aa04fc4",
   "metadata": {},
   "source": [
    "#### Question 3.3 \n",
    "\n",
    "Among all movies that user with Id 500 has rated, show the his/her top 5 favorite movies in each of the following three genres **Adventure**, **Comedy**, **Drama** (i.e., the movie he/she rated 5) more recently as three columns: `movieId, title, genre`. If you see the movies with overlapping genres, it is ok to include them several times."
   ]
  },
  {
   "cell_type": "code",
   "execution_count": null,
   "id": "3a517268",
   "metadata": {},
   "outputs": [],
   "source": [
    "# Question 3.3"
   ]
  },
  {
   "cell_type": "markdown",
   "id": "2a6d9e0f",
   "metadata": {},
   "source": [
    "#### Question 3.4 \n",
    "\n",
    "Show the pivot table of mean and standard deviation for the ratings of movies across the row of released decades (for example, year 1995 belongs to 1990s decade), and the column of quartile of the timestamp values (in terms of 4 groups)."
   ]
  },
  {
   "cell_type": "code",
   "execution_count": null,
   "id": "a651a083",
   "metadata": {},
   "outputs": [],
   "source": [
    "# Question 3.4"
   ]
  },
  {
   "cell_type": "markdown",
   "id": "bd599bf2",
   "metadata": {},
   "source": [
    "#### Question 3.5 \n",
    "\n",
    "Now you need to implement a **recommender system using collaborative filtering method**. This works simply as to recommend movies that \"people who like this movie also like these movies\". For example, people who like to watch Star Wars are very likely to watch Star Treks. \n",
    "\n",
    "In order to do so, you need to find all users who like one movie (i.e., post a rating of 5), and identify the movies these users also like, ranked by the number of likes. \n",
    "\n",
    "Show the recommended movie list with top 10 movies that users who like the *Titanic* may also like."
   ]
  },
  {
   "cell_type": "code",
   "execution_count": null,
   "id": "accab925",
   "metadata": {},
   "outputs": [],
   "source": [
    "# Question 3.5"
   ]
  },
  {
   "cell_type": "markdown",
   "id": "f5663c1f",
   "metadata": {},
   "source": [
    "Congratulations! You just build the first [recommender system that worth 1 million dollars](https://www.netflixprize.com/) :D\n",
    "\n",
    "![netflix_prize](https://cdn.vox-cdn.com/thumbor/Kp9TEknNzIQV-ZijAm74cfHx_D0=/0x124:1100x700/fit-in/1200x630/cdn.vox-cdn.com/uploads/chorus_asset/file/15788062/netflix-prize1.0.1537040369.jpg)"
   ]
  },
  {
   "cell_type": "markdown",
   "id": "e0dba267",
   "metadata": {},
   "source": [
    "Before submission, do not forget to restart the kernel and run the whole notebook. \n",
    "\n",
    "Thank you!!"
   ]
  },
  {
   "cell_type": "code",
   "execution_count": null,
   "id": "70119e2e",
   "metadata": {},
   "outputs": [],
   "source": []
  }
 ],
 "metadata": {
  "kernelspec": {
   "display_name": "Python 3 (ipykernel)",
   "language": "python",
   "name": "python3"
  },
  "language_info": {
   "codemirror_mode": {
    "name": "ipython",
    "version": 3
   },
   "file_extension": ".py",
   "mimetype": "text/x-python",
   "name": "python",
   "nbconvert_exporter": "python",
   "pygments_lexer": "ipython3",
   "version": "3.9.7"
  }
 },
 "nbformat": 4,
 "nbformat_minor": 5
}
