{
 "cells": [
  {
   "cell_type": "markdown",
   "id": "4c9299f9",
   "metadata": {},
   "source": [
    "# Assignment 1:  Numpy, Pandas, Matplotlib and Data Wrangling\n",
    "\n",
    "This task contains 3 main questions with details as below. The due date is October 22 (Tuesday), 2024, at 11:59 pm. Each day late will result in a loss of 20% of your total points. Please upload a `.ipynb` file with your solved notebook on Moodle.\n",
    "\n",
    "Good job! To enjoy!"
   ]
  },
  {
   "cell_type": "markdown",
   "id": "e42d8be4",
   "metadata": {
    "id": "F84GV8jU_yxG"
   },
   "source": [
    "### Question 1 (5,0 values) Spike Triggered Average\n",
    "\n",
    "Welcome to the world of neuroscience! <br>\n",
    "In this exercise you will have the opportunity to be gently introduced to the magnificent world of how your brain  executes what you think! \n",
    "\n",
    "<img src=\"brain.jpg\" alt=\"brain\" width=\"50%\">\n",
    "\n",
    "The brain is perhaps our most complex vital living organ, meaning that the multitude of years of research so far is still not sufficient to understand how such an organ behaves.\n",
    " <br>\n",
    "\n",
    "Biologically, the brain is formed by a particular form of cells that are called <strong>neurons</strong>. Such neurons are electrically excitable cells that communicate with one another via specialized connections named <strong>synapses</strong>. These connections allow the transmission of chemical and electrical signals across neurons. In very high-level terms, such a process gives birth to the human thought, giving us the possibility to carry out our ordinary life tasks and habits, such as talking with friends, eating, drinking, studying, and so on and so forth.\n",
    "Moreover, it is possible to say that communication across two neurons is experienced when we observe a <strong>spike</strong>, which is solicited by an electrical <strong>stimulus</strong> (through time). <br> \n",
    "As an example, imagine you are on your sofa watching your favorite movie: each photogram of the video you see from your eyes will be converted into a sequence of electrical signals, which we previously defined as <strong>stimulus</strong> (this is the scientific term). Then the stimulus flows in the network of your neurons, potentially activating their effects on your behavior. Specifically, if you watch a love scene, some neurons of the brain may <strong>spike</strong> (actually they are activated), potentially making you feel pleased and emotional. On the contrary, if you watch a violent scene, some other neurons may spike, potentially making you feel sad and uncomfortable. This is an abstract example talking about emotions, but bear in mind that examples of this kind are extendable to more practical activities such as the ones mentioned in the paragraph above. \n",
    "\n",
    "Practically speaking, in this exercise, you will analyze a stimulus and consequantly how it affects the spikes of a single neuron. <strong>Data is randomly generated</strong>, but it simulates perfectly the setting depicted above. In the end, you will compute the <strong>Spike-Triggered Average</strong> (STA), which, given a fixed time window, approximates the stimulus's behavior before a spike occurs. This is a time-wise average, meaning that, given many <strong>fixed-in-length time-sequences</strong> (same milliseconds long in this case) of the same stimulus, we average the sequences at their values at each millisecond step. \n",
    "\n",
    "Some clarifications: \n",
    "\n",
    "You will be provided with two time-series, one with the stimulus and the other one with the spikes. The latter series maps to the former, of course.\n",
    "Stimulus varies in time, specifically milliseconds (ms), meaning that each element in the stimulus is an electrical signal at a single millisecond. Whereas, the spikes are in binary form: 1 if a spike occurred, 0 if a spike did not occur at that specific milliseconds. "
   ]
  },
  {
   "cell_type": "code",
   "id": "3506b00c",
   "metadata": {
    "id": "vVU1BEkgAQJP",
    "ExecuteTime": {
     "end_time": "2024-10-22T22:56:34.662412Z",
     "start_time": "2024-10-22T22:56:34.451232Z"
    }
   },
   "source": [
    "# Import Dependencies \n",
    "\n",
    "import numpy as np # DON'T CHANGE THIS LINE \n",
    "import pickle # DON'T CHANGE THIS LINE "
   ],
   "outputs": [],
   "execution_count": 1
  },
  {
   "cell_type": "code",
   "id": "bfbcfe9b",
   "metadata": {
    "id": "LH4eFNIRAW8Z",
    "ExecuteTime": {
     "end_time": "2024-10-22T22:56:34.682440Z",
     "start_time": "2024-10-22T22:56:34.670324Z"
    }
   },
   "source": [
    "# Load Data \n",
    "\n",
    "path = \"data.pickle\" # Make sure the dataset \"data.pickle\" is within the same folder of this notebook\n",
    "data = pickle.load(open(path, 'rb')) # DON'T CHANGE THIS LINE\n"
   ],
   "outputs": [],
   "execution_count": 2
  },
  {
   "cell_type": "code",
   "id": "80c8f65f",
   "metadata": {
    "id": "ZgcVppkPAaMR",
    "ExecuteTime": {
     "end_time": "2024-10-22T22:56:35.014656Z",
     "start_time": "2024-10-22T22:56:35.009390Z"
    }
   },
   "source": [
    "# Reference Data \n",
    "\n",
    "# DON'T CHANGE THESE 2 LINES \n",
    "stimulus = data['stim'] # Stimulus (in STA units) over time (in milliseconds units) - Artificial Data - type: numpy.ndarray\n",
    "rho = data['rho'] # Spikes - 0 or 1. 0 no spike, 1 yes spike - Mapping stimulus - type: numpy.ndarray"
   ],
   "outputs": [],
   "execution_count": 3
  },
  {
   "cell_type": "markdown",
   "id": "d5632ab0",
   "metadata": {
    "id": "pfkNG-wvAfQm"
   },
   "source": [
    "#### Question 1.1\n",
    "\n",
    "How many milliseconds does the `stimulus` provided above have? "
   ]
  },
  {
   "cell_type": "code",
   "id": "cf5cb8ad",
   "metadata": {
    "colab": {
     "base_uri": "https://localhost:8080/"
    },
    "id": "6hREPGC4AhKm",
    "outputId": "807999ee-2ca3-4cd9-edfe-5463845ef9ab",
    "ExecuteTime": {
     "end_time": "2024-10-22T22:56:35.056611Z",
     "start_time": "2024-10-22T22:56:35.050557Z"
    }
   },
   "source": [
    "# Question 1.1\n",
    "\n",
    "print(f\"The stimulus has {len(stimulus)}\")"
   ],
   "outputs": [
    {
     "name": "stdout",
     "output_type": "stream",
     "text": [
      "The stimulus has 600000\n"
     ]
    }
   ],
   "execution_count": 4
  },
  {
   "cell_type": "markdown",
   "id": "d7e7ba89",
   "metadata": {
    "id": "4sfaQH79_8T1"
   },
   "source": [
    "#### Question 1.2\n",
    "\n",
    "Filter out the low stimulus values. \n",
    "Set a minimum threshold of 10 STA units for the <strong> absolute value </strong> of the stimulus and filter out everything below it (do not change the original stimulus array).\n",
    "\n",
    "For example: \n",
    "<br>Consider stimulus = [-5.2345, 3.4564, 13.1245, -15.2356]<br>\n",
    "The final result should be: filtered_stimulus = [13.1245, -15.2356]\n",
    "\n",
    "Tip: Use \n",
    "<strong> print(filtered_stimulus[0:100]) </strong>\n",
    "to check if the first 100 values are beeing filtered correctly."
   ]
  },
  {
   "cell_type": "code",
   "id": "9b792ec9",
   "metadata": {
    "colab": {
     "base_uri": "https://localhost:8080/"
    },
    "id": "1brKFP9BAnum",
    "outputId": "c4473cce-c2e3-4345-ebaa-59a5efb81715",
    "ExecuteTime": {
     "end_time": "2024-10-22T22:56:35.113745Z",
     "start_time": "2024-10-22T22:56:35.102388Z"
    }
   },
   "source": [
    "# Question 1.2\n",
    "print(stimulus[0:30])\n",
    "  \n",
    "#filtered_stimulus= list(filter(lambda stim: stim >=10 or stim<=-10,stimulus))\n",
    "filtered_stimulus = stimulus[np.abs(stimulus)>=10]\n",
    "\n",
    "print(filtered_stimulus[0:30])\n",
    "\n"
   ],
   "outputs": [
    {
     "name": "stdout",
     "output_type": "stream",
     "text": [
      "[-111.94824219  -81.80664062   10.21972656   83.36425781   69.375\n",
      "    2.66113281  -25.91796875  -32.24609375  -27.29492188  -20.24414062\n",
      "  -32.21679688   -8.61816406   35.06347656   55.92285156   46.72851562\n",
      "   53.75976562   96.84082031  121.67480469  109.58984375   71.92871094\n",
      "   16.76757812   17.95898438   63.7890625    90.24902344  103.49121094\n",
      "   76.31347656   35.65429688   58.61816406   68.05175781   44.30664062]\n",
      "[-111.94824219  -81.80664062   10.21972656   83.36425781   69.375\n",
      "  -25.91796875  -32.24609375  -27.29492188  -20.24414062  -32.21679688\n",
      "   35.06347656   55.92285156   46.72851562   53.75976562   96.84082031\n",
      "  121.67480469  109.58984375   71.92871094   16.76757812   17.95898438\n",
      "   63.7890625    90.24902344  103.49121094   76.31347656   35.65429688\n",
      "   58.61816406   68.05175781   44.30664062   38.52539062  -24.78027344]\n"
     ]
    }
   ],
   "execution_count": 5
  },
  {
   "cell_type": "markdown",
   "id": "8230a5e4",
   "metadata": {
    "id": "t-cg1XaoAtVA"
   },
   "source": [
    "#### Question 1.3\n",
    "\n",
    "Compute the interquartile range of the values of the `stimulus` time series.\n",
    "\n",
    "  ℹ️<strong>interquartile_range = q75 - q25</strong>\n",
    "    <br> Where: q25 is the first quartile and q75 is the third quartile."
   ]
  },
  {
   "cell_type": "code",
   "id": "790d0bc5",
   "metadata": {
    "colab": {
     "base_uri": "https://localhost:8080/"
    },
    "id": "rrAd-P8QAz5s",
    "outputId": "1c757bf8-eaa0-4895-b1ad-2363bf586fcd",
    "ExecuteTime": {
     "end_time": "2024-10-22T22:56:35.206125Z",
     "start_time": "2024-10-22T22:56:35.185195Z"
    }
   },
   "source": [
    "# Question 1.3\n",
    "\n",
    "interquartile_range = np.percentile(stimulus, 75) - np.percentile(stimulus, 25)\n",
    "print(f\"The interquartile range is {interquartile_range}\")\n"
   ],
   "outputs": [
    {
     "name": "stdout",
     "output_type": "stream",
     "text": [
      "The interquartile range is 72.861328125\n"
     ]
    }
   ],
   "execution_count": 6
  },
  {
   "cell_type": "markdown",
   "id": "23e3ffa3",
   "metadata": {},
   "source": [
    "#### Question 1.4\n",
    "\n",
    "Find the position of the three maximums of the `stimulus` and replace these values with the average (do not change the original stimulus array)."
   ]
  },
  {
   "cell_type": "code",
   "id": "2a31a995",
   "metadata": {
    "ExecuteTime": {
     "end_time": "2024-10-22T22:56:35.338599Z",
     "start_time": "2024-10-22T22:56:35.285170Z"
    }
   },
   "source": [
    "# Question 1.4\n",
    "average = np.mean(stimulus)\n",
    "max3_indices = np.argsort(stimulus)[-3:]\n",
    "print(max3_indices)\n",
    "\n",
    "stimulus_max = np.array(stimulus)\n",
    "stimulus_max[max3_indices] = average\n",
    "print(stimulus_max[max3_indices])\n",
    "\n"
   ],
   "outputs": [
    {
     "name": "stdout",
     "output_type": "stream",
     "text": [
      "[483415  33430  72044]\n",
      "[-0.0942883 -0.0942883 -0.0942883]\n"
     ]
    }
   ],
   "execution_count": 7
  },
  {
   "cell_type": "markdown",
   "id": "c25b0f49",
   "metadata": {
    "id": "LzBpLBqaA9hT"
   },
   "source": [
    "#### Question 1.5\n",
    "\n",
    "Compute the <strong>Spike Triggered Average</strong> as described previously with a time window of 300 ms. I.e. each sequence to be considered for the Spike Triggered Average should have a length of 300 ms. \n",
    "\n",
    "Here we provide a visual toy example of the Spike Triggered Average complementing what is described in the main passage:\n",
    "\n",
    "<img src=\"sta_example.png\" alt=\"img not available\" width=\"50%\">\n",
    "\n",
    "Each sequence is average (millisecond-wise) with a time window of 30 ms before a spike. Bear in mind that, in this question, you are asked to use 300 ms time window."
   ]
  },
  {
   "cell_type": "code",
   "id": "14e9c948",
   "metadata": {
    "colab": {
     "base_uri": "https://localhost:8080/"
    },
    "id": "uv3-m0PVBJSy",
    "outputId": "9049184d-1677-48de-bc09-1d337fb1d533",
    "ExecuteTime": {
     "end_time": "2024-10-22T22:56:35.591436Z",
     "start_time": "2024-10-22T22:56:35.358175Z"
    }
   },
   "source": [
    "# Question 1.5\n",
    "\n",
    "spike1 = np.where(rho == 1)[0]\n",
    "spikes = spike1[spike1 >= 300]\n",
    "\n",
    "# Colectar 300ms windows\n",
    "windows = []\n",
    "for spike1 in spikes:\n",
    "    window = stimulus[spike1 - 300:spike1]\n",
    "    windows.append(window)\n",
    "\n",
    "\n",
    "windows = np.array(windows)\n",
    "sta = np.mean(windows, axis=0)\n"
   ],
   "outputs": [],
   "execution_count": 8
  },
  {
   "cell_type": "markdown",
   "id": "4bb21d5d",
   "metadata": {
    "id": "IzC00hRsBRCg"
   },
   "source": [
    "##### 🎯Check your answer - NOT GRADED"
   ]
  },
  {
   "cell_type": "code",
   "id": "99cb8d06",
   "metadata": {
    "id": "qY4TU6P_BVfZ",
    "ExecuteTime": {
     "end_time": "2024-10-22T22:56:37.313505Z",
     "start_time": "2024-10-22T22:56:35.776515Z"
    }
   },
   "source": [
    "import matplotlib.pyplot as plt # DON'T CHANGE THIS LINE \n",
    "import matplotlib.image as mpimg # DON'T CHANGE THIS LINE \n",
    "\n",
    "\n",
    "sta = sta # Please delete \"None\" and insert here your spike triggered average answer \n",
    "plt.plot(range(sta.shape[0]), sta) # DON'T CHANGE THIS LINE "
   ],
   "outputs": [
    {
     "data": {
      "text/plain": [
       "[<matplotlib.lines.Line2D at 0x10dd0da90>]"
      ]
     },
     "execution_count": 9,
     "metadata": {},
     "output_type": "execute_result"
    },
    {
     "data": {
      "text/plain": [
       "<Figure size 640x480 with 1 Axes>"
      ],
      "image/png": "[encoded data removed]"
     },
     "metadata": {},
     "output_type": "display_data"
    }
   ],
   "execution_count": 9
  },
  {
   "cell_type": "markdown",
   "id": "e589b3a7",
   "metadata": {
    "id": "AZxYi5naBkli"
   },
   "source": [
    "<strong>If you did everything correct, your plot should look the same as the one below!</strong>\n",
    "\n",
    "<img src=\"sta_sample.png\" alt=\"no-picture\" align=\"left\"> <br><br><br><br><br><br><br><br><br><br><br><br><br>\n",
    "\n",
    "\n",
    "<strong>Congratulations! You have just learned how the brain works! Kudos to you! :)</strong>"
   ]
  },
  {
   "cell_type": "markdown",
   "id": "cdfd547b",
   "metadata": {
    "id": "sGbNFwTesp3m"
   },
   "source": [
    "<br><br>\n",
    "### Question 2 (7,0 values)  Aircraft Wildlife Strikes\n",
    "\n",
    "![](https://i.pinimg.com/400x/30/de/ee/30deee2cbc1aec96a1532c4a27962f0c--bird-strike-passenger-aircraft.jpg)\n",
    "\n",
    "The \"wildlifestrikes.csv\" dataset contains a record of each reported wildlife strike of military, commercial, or civil aircraft between 1990 and 2015. Each row contains the incident date, aircraft operator, aircraft make and model, engine make and model, airport name and location, species name and quantity, and aircraft damage.\n",
    "The wildlife strike database was compiled from reports received from airports, airlines, and pilots and published by the Federal Aviation Association. \n",
    "<br>"
   ]
  },
  {
   "cell_type": "markdown",
   "id": "fa98c259",
   "metadata": {
    "id": "CC3vUnLRw1Mc"
   },
   "source": [
    "**Question 2.1** \n",
    "\n",
    "Import the dataset \"wildlifestrikes.csv\" and show the ***total number of records***, the ***number of columns***, and how many ***unique species*** the dataset has.\n"
   ]
  },
  {
   "cell_type": "code",
   "id": "16f805ee",
   "metadata": {
    "ExecuteTime": {
     "end_time": "2024-10-22T22:56:37.905546Z",
     "start_time": "2024-10-22T22:56:37.336655Z"
    }
   },
   "source": [
    "import pandas as pd\n",
    "import numpy as np"
   ],
   "outputs": [],
   "execution_count": 10
  },
  {
   "cell_type": "code",
   "id": "bb224d6a",
   "metadata": {
    "colab": {
     "base_uri": "https://localhost:8080/",
     "height": 138
    },
    "id": "SfJHJef5sD4_",
    "outputId": "0e01405e-b15d-444c-85a7-044a32f3f1e8",
    "ExecuteTime": {
     "end_time": "2024-10-22T22:56:39.587082Z",
     "start_time": "2024-10-22T22:56:37.929828Z"
    }
   },
   "source": [
    "# Question 2.1\n",
    "df = pd.read_csv(\"wildlifestrikes.csv\", low_memory=False)\n",
    "\n",
    "nrecords = len(df)\n",
    "\n",
    "ncolumns = len(df.columns)\n",
    "\n",
    "uspecies = df[\"Species Name\"].nunique()\n",
    "\n",
    "print(f\"total number of records {nrecords} / number of columns {ncolumns} / unique species {uspecies}\")"
   ],
   "outputs": [
    {
     "name": "stdout",
     "output_type": "stream",
     "text": [
      "total number of records 174104 / number of columns 66 / unique species 715\n"
     ]
    }
   ],
   "execution_count": 11
  },
  {
   "cell_type": "markdown",
   "id": "7b3187e1",
   "metadata": {
    "id": "TwpkkPbSw9h1"
   },
   "source": [
    "**Question 2.2** \n",
    "\n",
    "In 2000, what percentage of flights suffered a wild animal strike and had to perform a \"PRECAUTIONARY LANDing\"? (hint: check the \"Flight Impact\" column in the dataset). Report the result to two decimal places."
   ]
  },
  {
   "cell_type": "code",
   "id": "a8efe67a",
   "metadata": {
    "colab": {
     "base_uri": "https://localhost:8080/",
     "height": 252
    },
    "id": "S88fav5Tw-Ls",
    "outputId": "b6a6221a-d06f-4bb8-c1c4-8407950d8aea",
    "ExecuteTime": {
     "end_time": "2024-10-22T22:56:39.711881Z",
     "start_time": "2024-10-22T22:56:39.695501Z"
    }
   },
   "source": [
    "# Question 2.2\n",
    "\n",
    "df2000 = df[df['Incident Year'] == 2000]\n",
    "\n",
    "ftotal = len(df2000)\n",
    "\n",
    "lprecautionary = df2000[df2000['Flight Impact'].str.contains('PRECAUTIONARY LANDING', na=False)]\n",
    "lprecautionary_count = len(lprecautionary)\n",
    "\n",
    "percentage = round((lprecautionary_count / ftotal) * 100, 2)\n",
    "\n",
    "print(f\"Percentage {percentage}%\")"
   ],
   "outputs": [
    {
     "name": "stdout",
     "output_type": "stream",
     "text": [
      "Percentage 5.15%\n"
     ]
    }
   ],
   "execution_count": 12
  },
  {
   "cell_type": "markdown",
   "id": "e325f63f",
   "metadata": {
    "id": "ugS4DKHq7IJ9"
   },
   "source": [
    "**Question 2.3** \n",
    "\n",
    "What was the year with the highest fatalities due to a wildlife strike? (hint: check the column \"Fatalities\" on the dataset)"
   ]
  },
  {
   "cell_type": "code",
   "id": "ca1c3255",
   "metadata": {
    "colab": {
     "base_uri": "https://localhost:8080/",
     "height": 900
    },
    "id": "jII69R7x7Dxq",
    "outputId": "1460c42c-ab79-40c2-b358-22ae0f59d809",
    "ExecuteTime": {
     "end_time": "2024-10-22T22:56:39.806600Z",
     "start_time": "2024-10-22T22:56:39.795707Z"
    }
   },
   "source": [
    "# Question 2.3\n",
    "year = df.groupby('Incident Year')['Fatalities'].sum()\n",
    "print(year.idxmax())"
   ],
   "outputs": [
    {
     "name": "stdout",
     "output_type": "stream",
     "text": [
      "2009\n"
     ]
    }
   ],
   "execution_count": 13
  },
  {
   "cell_type": "markdown",
   "id": "d9b0456f",
   "metadata": {
    "id": "w8-PCECfw-Z9"
   },
   "source": [
    "**Question 2.4** \n",
    "\n",
    "Find the top 5 species that caused engine damage on the aircraft after striking it (remember that there are up to 4 different possible engines on an aircraft). For this exercise, you can consider unknown species."
   ]
  },
  {
   "cell_type": "code",
   "id": "84090908",
   "metadata": {
    "colab": {
     "base_uri": "https://localhost:8080/",
     "height": 50
    },
    "id": "mH2xQ2-zxD0G",
    "outputId": "7aa64ceb-6a34-4753-cf82-59395bb2301c",
    "ExecuteTime": {
     "end_time": "2024-10-22T22:56:39.917855Z",
     "start_time": "2024-10-22T22:56:39.895852Z"
    }
   },
   "source": [
    "# Question 2.4\n",
    "# Create engine damage mask\n",
    "engine = (df['Engine1 Damage'] == 1) | (df['Engine2 Damage'] == 1) |  (df['Engine3 Damage'] == 1) | (df['Engine4 Damage'] == 1)\n",
    "\n",
    "# Get top 5 species\n",
    "top = df[engine]['Species Name'].value_counts().head()\n",
    "\n",
    "print(top)\n",
    "\n"
   ],
   "outputs": [
    {
     "name": "stdout",
     "output_type": "stream",
     "text": [
      "Species Name\n",
      "UNKNOWN MEDIUM BIRD    1593\n",
      "GULL                    380\n",
      "UNKNOWN SMALL BIRD      261\n",
      "UNKNOWN LARGE BIRD      219\n",
      "CANADA GOOSE            201\n",
      "Name: count, dtype: int64\n"
     ]
    }
   ],
   "execution_count": 14
  },
  {
   "cell_type": "markdown",
   "id": "c78aa26e",
   "metadata": {
    "id": "bK62NqxLxDBp"
   },
   "source": [
    "**Question 2.5** \n",
    "\n",
    "Find the name of the specie that was responsible for the most incidents and indicate the total number of incidents caused by it. The result cannot be an unknown bird."
   ]
  },
  {
   "cell_type": "code",
   "id": "92fdd65f",
   "metadata": {
    "colab": {
     "base_uri": "https://localhost:8080/",
     "height": 118
    },
    "id": "px9jPItpxHwV",
    "outputId": "d2bdc3af-11fa-42a4-ec64-d9378cc31ad5",
    "ExecuteTime": {
     "end_time": "2024-10-22T22:56:40.027186Z",
     "start_time": "2024-10-22T22:56:40.000397Z"
    }
   },
   "source": [
    "# Question 2.5\n",
    "counts = df.groupby('Species Name').size()\n",
    "counts = counts[[species for species in counts.index if 'UNKNOWN' not in species.upper()]]\n",
    "\n",
    "top_species = counts.idxmax()\n",
    "incidents = counts.max()\n",
    "\n",
    "print(f\"{top_species} {incidents}\")\n"
   ],
   "outputs": [
    {
     "name": "stdout",
     "output_type": "stream",
     "text": [
      "MOURNING DOVE 7653\n"
     ]
    }
   ],
   "execution_count": 15
  },
  {
   "cell_type": "markdown",
   "id": "70a0deca",
   "metadata": {},
   "source": [
    "**Question 2.6**  Show how many incidents occurred every five years (i.e. total number of incidents for each of the following time intervals: (1990, 1995], (1995, 2000], (2000, 2005], (2005, 2010], and (2010,2015]). Note that the time intervals are open on the left and closed on the right."
   ]
  },
  {
   "cell_type": "code",
   "id": "43cf8545",
   "metadata": {
    "ExecuteTime": {
     "end_time": "2024-10-22T22:56:40.127744Z",
     "start_time": "2024-10-22T22:56:40.110747Z"
    }
   },
   "source": [
    "# Question 2.6\n",
    "bins = [1990, 1995, 2000, 2005, 2010, 2015]\n",
    "df['Year Group'] = pd.cut(df['Incident Year'], bins=bins, right=True, include_lowest=False)\n",
    "incidents = df['Year Group'].value_counts().sort_index()\n",
    "\n",
    "print(incidents)"
   ],
   "outputs": [
    {
     "name": "stdout",
     "output_type": "stream",
     "text": [
      "Year Group\n",
      "(1990, 1995]    14264\n",
      "(1995, 2000]    22733\n",
      "(2000, 2005]    34073\n",
      "(2005, 2010]    43518\n",
      "(2010, 2015]    57417\n",
      "Name: count, dtype: int64\n"
     ]
    }
   ],
   "execution_count": 16
  },
  {
   "cell_type": "markdown",
   "id": "74795318",
   "metadata": {},
   "source": [
    "**Question 2.7** \n",
    "\n",
    "Consider the five-time intervals: (1990, 1995], (1995, 2000], (2000, 2005], (2005, 2010], and (2010,2015]. Use a pivot_table to find out, ***on each time interval***, which type of aircraft (\"Aircraft\") got most frequently damaged (\"Aircraft Damage\") after a wildlife strike. (hint: First, do the pivot table with the total sum of the damage per each type of aircraft suffered at each time interval. After that, obtain the aircraft type with the highest value for each time interval.)"
   ]
  },
  {
   "cell_type": "code",
   "id": "9ef148e1",
   "metadata": {
    "ExecuteTime": {
     "end_time": "2024-10-22T22:56:40.259277Z",
     "start_time": "2024-10-22T22:56:40.211256Z"
    }
   },
   "source": [
    "# Question 2.7\n",
    "pivot_table = pd.pivot_table(df, values='Aircraft Damage', \n",
    "                             index='Year Group', columns='Aircraft', \n",
    "                             aggfunc='sum', fill_value=0, observed=False)\n",
    "\n",
    "# Find the aircraft with the highest damage in each time interval\n",
    "aircraftHV = pivot_table.idxmax(axis=1)\n",
    "print(aircraftHV)\n"
   ],
   "outputs": [
    {
     "name": "stdout",
     "output_type": "stream",
     "text": [
      "Year Group\n",
      "(1990, 1995]    B-737-300\n",
      "(1995, 2000]    B-737-300\n",
      "(2000, 2005]    B-737-300\n",
      "(2005, 2010]        A-320\n",
      "(2010, 2015]        A-320\n",
      "dtype: object\n"
     ]
    }
   ],
   "execution_count": 17
  },
  {
   "cell_type": "markdown",
   "id": "f4de4649",
   "metadata": {},
   "source": [
    "\n",
    "### Question 3 (8 values)- A Million Dollar Question: Squid Game or Alice in Borderland?\n",
    "\n",
    "\n",
    "“What TV sereis should I binge-watch this evening?” This perhaps is a question you would ask yourself very often. As for me — yes, and more than once. As such, from Netflix to Hulu, the need to build robust movie recommendation systems is extremely important given the huge demand for personalized content of modern consumers. **Netflix is forecasting it will add 3.5 million paying subscribers thanks to the surprise hit Squid Games**\n",
    "\n",
    "We are going to examine a MovieLens dataset which provides non-commercial, personalized movie recommendations. \n",
    "\n",
    "This dataset describes user ratings from MovieLens. It contains ratings and tag applications across movies created by  users. Users were selected at random for inclusion. No demographic information is included. Each user is represented by an id, and no other information is provided.\n",
    "\n",
    "The data are contained in the files movies_fe.xlsx, ratings_fe.csv. More details about the contents and use of all these files follows.\n",
    "\n",
    "**Ratings Data File Structure (ratings_fe.csv)**\n",
    "All ratings are contained in the file ratings_fe.csv. Each line of this file after the header row represents one rating of one movie by one user, and has the following format:\n",
    "`userId,movieId,rating,timestamp`\n",
    "\n",
    "The lines within this file are ordered first by userId, then, within user, by movieId.\n",
    "\n",
    "Ratings are made on a 5-star scale, with half-star increments (0.5 stars - 5.0 stars).\n",
    "\n",
    "**Movies Data File Structure (movies_fe.xlsx)**\n",
    "Movie information is contained in the file movies_fe.xlsx. Each line of this file after the header row represents one movie, and has the following format:\n",
    "`movieId,title,year,genres`\n",
    "\n",
    "Answer the following questions using the provided dataset. You can write down intermediate results towards the final answers"
   ]
  },
  {
   "cell_type": "code",
   "id": "29f290dc",
   "metadata": {
    "ExecuteTime": {
     "end_time": "2024-10-22T22:56:40.382116Z",
     "start_time": "2024-10-22T22:56:40.377995Z"
    }
   },
   "source": [
    "import pandas as pd\n",
    "import numpy as np"
   ],
   "outputs": [],
   "execution_count": 18
  },
  {
   "cell_type": "markdown",
   "id": "9c97418b",
   "metadata": {},
   "source": [
    "#### Question 3.1\n",
    "\n",
    "However, there may be errors and inconsistencies in these files, as shown below:\n",
    "\n",
    "The ratings in the `rating_fe.csv` should be made on a 5-star scale, with half-star increments (0.5 stars - 5.0 stars). So if the ratings are larger than 5 or smaller than 0.5, you need to round it to the value of 5 and 1, respectively. For example, if a movie is rated 8, then it might be wrongly rated and you need to change the value to 5. Similarly, if a movie is rated negatively, e.g., -1, then it should be changed to 1, if any.\n",
    "\n",
    "The movie information in the `movies_fe.xlsx` contains the movies with the missing information about **year**. You should also remove them.\n",
    "\n",
    "You should also inspect the data to make sure the correct starting row of the data."
   ]
  },
  {
   "cell_type": "code",
   "id": "3ad71846",
   "metadata": {
    "ExecuteTime": {
     "end_time": "2024-10-22T22:56:41.176978Z",
     "start_time": "2024-10-22T22:56:40.455991Z"
    }
   },
   "source": [
    "# Question 3.1\n",
    "\n",
    "df_ratings = pd.read_csv('ratings_fe.csv', encoding='ISO-8859-1', skiprows=10)\n",
    "df_movies = pd.read_excel('movies_fe.xlsx', skiprows=15)\n",
    "\n",
    "#print(df_ratings.head())\n",
    "#print(df_movies.head())\n",
    "\n",
    "df_ratings['rating'] = np.clip(df_ratings['rating'], 0.5, 5)\n",
    "df_ratings['rating'] = np.round(df_ratings['rating'] * 2) / 2\n",
    "   \n",
    "movies = df_movies.dropna(subset=['year'])\n"
   ],
   "outputs": [],
   "execution_count": 19
  },
  {
   "cell_type": "markdown",
   "id": "08cd4350",
   "metadata": {},
   "source": [
    "#### Question 3.2 \n",
    "\n",
    "Show the top 5 Action movies with the highest median ratings:"
   ]
  },
  {
   "cell_type": "code",
   "id": "dd5fe018",
   "metadata": {
    "ExecuteTime": {
     "end_time": "2024-10-22T22:56:41.370265Z",
     "start_time": "2024-10-22T22:56:41.326996Z"
    }
   },
   "source": [
    "# Question 3.2\n",
    "action_mv = df_movies[df_movies['genres'].str.contains('Action', case=False, na=False)]\n",
    "\n",
    "merged_df = action_mv.merge(df_ratings, on='movieId')\n",
    "\n",
    "median_rt = merged_df.groupby('title')['rating'].median().reset_index()\n",
    "\n",
    "top5 = median_rt.sort_values(by='rating', ascending=False).head()\n",
    "\n",
    "print(top5)\n"
   ],
   "outputs": [
    {
     "name": "stdout",
     "output_type": "stream",
     "text": [
      "                                                 title  rating\n",
      "459                     Farscape: The Peacekeeper Wars     5.0\n",
      "428                                   Enemy Below, The     5.0\n",
      "21   36th Chamber of Shaolin, The (Shao Lin san shi...     5.0\n",
      "343                           Dead or Alive: Hanzaisha     5.0\n",
      "360                                          Def-Con 4     5.0\n"
     ]
    }
   ],
   "execution_count": 20
  },
  {
   "cell_type": "markdown",
   "id": "1aa04fc4",
   "metadata": {},
   "source": [
    "#### Question 3.3 \n",
    "\n",
    "Among all movies that user with Id 500 has rated, show the his/her top 5 favorite movies in each of the following three genres **Adventure**, **Comedy**, **Drama** (i.e., the movie he/she rated 5) more recently as three columns: `movieId, title, genre`. If you see the movies with overlapping genres, it is ok to include them several times."
   ]
  },
  {
   "cell_type": "code",
   "id": "3a517268",
   "metadata": {
    "ExecuteTime": {
     "end_time": "2024-10-22T22:56:41.627507Z",
     "start_time": "2024-10-22T22:56:41.583566Z"
    }
   },
   "source": [
    "# Question 3.3\n",
    "id500_rt = df_ratings[df_ratings['userId'] == 500]\n",
    "\n",
    "id500_mv = id500_rt.merge(df_movies, on='movieId')\n",
    "\n",
    "id500_topmv = id500_mv[id500_mv['rating'] == 5]\n",
    "\n",
    "result = pd.DataFrame()\n",
    "\n",
    "for genre in ['Adventure', 'Comedy', 'Drama']:\n",
    "    genre_movies = id500_topmv[id500_topmv['genres'].str.contains(genre, case=False)]\n",
    "    \n",
    "    genre_movies = genre_movies.sort_values(by='timestamp', ascending=False).head(5)\n",
    "\n",
    "    result = pd.concat([result, genre_movies[['movieId', 'title', 'genres']]], ignore_index=True)\n",
    "\n",
    "print(result)\n"
   ],
   "outputs": [
    {
     "name": "stdout",
     "output_type": "stream",
     "text": [
      "    movieId                                              title  \\\n",
      "0      2162        NeverEnding Story II: The Next Chapter, The   \n",
      "1      1136                    Monty Python and the Holy Grail   \n",
      "2      5444                                      Lilo & Stitch   \n",
      "3         1                                          Toy Story   \n",
      "4      2115               Indiana Jones and the Temple of Doom   \n",
      "5      1391                                      Mars Attacks!   \n",
      "6       671            Mystery Science Theater 3000: The Movie   \n",
      "7      3671                                    Blazing Saddles   \n",
      "8      2788  Monty Python's And Now for Something Completel...   \n",
      "9       235                                            Ed Wood   \n",
      "10     2291                                Edward Scissorhands   \n",
      "11      235                                            Ed Wood   \n",
      "12     4754                                    Wicker Man, The   \n",
      "13     4036                              Shadow of the Vampire   \n",
      "14     1947                                    West Side Story   \n",
      "\n",
      "                                         genres  \n",
      "0                    Adventure|Children|Fantasy  \n",
      "1                      Adventure|Comedy|Fantasy  \n",
      "2           Adventure|Animation|Children|Sci-Fi  \n",
      "3   Adventure|Animation|Children|Comedy|Fantasy  \n",
      "4                      Action|Adventure|Fantasy  \n",
      "5                          Action|Comedy|Sci-Fi  \n",
      "6                                 Comedy|Sci-Fi  \n",
      "7                                Comedy|Western  \n",
      "8                                        Comedy  \n",
      "9                                  Comedy|Drama  \n",
      "10                        Drama|Fantasy|Romance  \n",
      "11                                 Comedy|Drama  \n",
      "12                Drama|Horror|Mystery|Thriller  \n",
      "13                                 Drama|Horror  \n",
      "14                        Drama|Musical|Romance  \n"
     ]
    }
   ],
   "execution_count": 21
  },
  {
   "cell_type": "markdown",
   "id": "2a6d9e0f",
   "metadata": {},
   "source": [
    "#### Question 3.4 \n",
    "\n",
    "Show the pivot table of mean and standard deviation for the ratings of movies across the row of released decades (for example, year 1995 belongs to 1990s decade), and the column of quartile of the timestamp values (in terms of 4 groups)."
   ]
  },
  {
   "cell_type": "code",
   "id": "a651a083",
   "metadata": {
    "ExecuteTime": {
     "end_time": "2024-10-22T22:56:41.908894Z",
     "start_time": "2024-10-22T22:56:41.817919Z"
    }
   },
   "source": [
    "# Question 3.4\n",
    "df_movies['decade'] = (df_movies['year'] // 10) * 10\n",
    "\n",
    "quartiles = pd.qcut(df_ratings['timestamp'], q=4, labels=['Q1', 'Q2', 'Q3', 'Q4'])\n",
    "df_ratings['timestamp_quartile'] = quartiles\n",
    "\n",
    "merged_df = df_ratings.merge(df_movies, on='movieId')\n",
    "\n",
    "pivot_table = pd.pivot_table(\n",
    "    merged_df, \n",
    "    values='rating', \n",
    "    index='decade', \n",
    "    columns='timestamp_quartile', \n",
    "    aggfunc=[np.mean, np.std],\n",
    "    observed=False\n",
    ")\n",
    "\n",
    "print(pivot_table)"
   ],
   "outputs": [
    {
     "name": "stdout",
     "output_type": "stream",
     "text": [
      "                        mean                                     std  \\\n",
      "timestamp_quartile        Q1        Q2        Q3        Q4        Q1   \n",
      "decade                                                                 \n",
      "1900.0                   NaN       NaN       NaN  4.500000       NaN   \n",
      "1910.0                   NaN  2.666667  3.666667  0.500000       NaN   \n",
      "1920.0              4.000000  3.869048  3.800000  3.852273  1.069045   \n",
      "1930.0              3.940075  3.801923  3.839450  3.689024  0.959796   \n",
      "1940.0              3.997375  3.950119  3.910290  3.706977  0.919092   \n",
      "1950.0              3.840336  3.815723  3.871893  3.639759  0.949776   \n",
      "1960.0              3.823678  3.788955  3.794673  3.655833  0.996093   \n",
      "1970.0              3.759878  3.724583  3.666779  3.718609  1.090443   \n",
      "1980.0              3.512641  3.527864  3.502818  3.534598  1.100325   \n",
      "1990.0              3.452022  3.395828  3.331277  3.431370  1.080266   \n",
      "2000.0              3.500000  3.345169  3.464876  3.478017  1.607907   \n",
      "2010.0                   NaN       NaN       NaN  3.509475       NaN   \n",
      "\n",
      "                                                  \n",
      "timestamp_quartile        Q2        Q3        Q4  \n",
      "decade                                            \n",
      "1900.0                   NaN       NaN       NaN  \n",
      "1910.0              2.081666  1.892969       NaN  \n",
      "1920.0              1.306921  0.881631  0.605974  \n",
      "1930.0              1.104657  0.832465  0.953329  \n",
      "1940.0              0.988569  0.853641  0.866132  \n",
      "1950.0              1.048421  0.826891  0.901413  \n",
      "1960.0              1.088314  0.902475  0.978636  \n",
      "1970.0              1.157064  1.043094  1.023723  \n",
      "1980.0              1.135143  1.012220  1.024501  \n",
      "1990.0              1.148351  1.064322  1.079272  \n",
      "2000.0              1.185488  1.023487  1.027212  \n",
      "2010.0                   NaN       NaN  0.916144  \n"
     ]
    },
    {
     "name": "stderr",
     "output_type": "stream",
     "text": [
      "/var/folders/jy/vfzb27150nd0q7kfmfb32dcw0000gn/T/ipykernel_31050/3294899954.py:9: FutureWarning: The provided callable <function mean at 0x109860360> is currently using DataFrameGroupBy.mean. In a future version of pandas, the provided callable will be used directly. To keep current behavior pass the string \"mean\" instead.\n",
      "  pivot_table = pd.pivot_table(\n",
      "/var/folders/jy/vfzb27150nd0q7kfmfb32dcw0000gn/T/ipykernel_31050/3294899954.py:9: FutureWarning: The provided callable <function std at 0x1098604a0> is currently using DataFrameGroupBy.std. In a future version of pandas, the provided callable will be used directly. To keep current behavior pass the string \"std\" instead.\n",
      "  pivot_table = pd.pivot_table(\n"
     ]
    }
   ],
   "execution_count": 22
  },
  {
   "cell_type": "markdown",
   "id": "bd599bf2",
   "metadata": {},
   "source": [
    "#### Question 3.5 \n",
    "\n",
    "Now you need to implement a **recommender system using collaborative filtering method**. This works simply as to recommend movies that \"people who like this movie also like these movies\". For example, people who like to watch Star Wars are very likely to watch Star Treks. \n",
    "\n",
    "In order to do so, you need to find all users who like one movie (i.e., post a rating of 5), and identify the movies these users also like, ranked by the number of likes. \n",
    "\n",
    "Show the recommended movie list with top 10 movies that users who like the *Titanic* may also like."
   ]
  },
  {
   "cell_type": "code",
   "id": "accab925",
   "metadata": {
    "ExecuteTime": {
     "end_time": "2024-10-22T22:56:42.138207Z",
     "start_time": "2024-10-22T22:56:42.118015Z"
    }
   },
   "source": [
    "# Question 3.5\n",
    "titanic_id = df_movies[df_movies['title'] == 'Titanic']['movieId'].values[0]\n",
    "liked_titanic = df_ratings[df_ratings['movieId'] == titanic_id]\n",
    "liked_titanic = liked_titanic[liked_titanic['rating'] == 5]['userId']\n",
    "\n",
    "ot_mv = df_ratings[df_ratings['userId'].isin(liked_titanic)]\n",
    "\n",
    "recommend_mv = ot_mv[ot_mv['rating'] == 5]['movieId'].value_counts()\n",
    "\n",
    "recommend_mv = recommend_mv[recommend_mv.index != titanic_id]\n",
    "\n",
    "top_recommend_mv = recommend_mv.head(10)\n",
    "\n",
    "top_recommend_mv_df = df_movies[df_movies['movieId'].isin(top_recommend_mv.index)]\n",
    "top_recommend_mv_df['Likes'] = top_recommend_mv.values\n",
    "\n",
    "print(top_recommend_mv_df[['movieId', 'title', 'Likes']])\n"
   ],
   "outputs": [
    {
     "name": "stdout",
     "output_type": "stream",
     "text": [
      "      movieId                       title  Likes\n",
      "101       110                  Braveheart      8\n",
      "293       318   Shawshank Redemption, The      8\n",
      "330       356                Forrest Gump      8\n",
      "484       527            Schindler's List      8\n",
      "534       589  Terminator 2: Judgment Day      8\n",
      "537       593   Silence of the Lambs, The      7\n",
      "1397     1784          As Good as It Gets      7\n",
      "1576     2028         Saving Private Ryan      7\n",
      "2033     2571                 Matrix, The      7\n",
      "2363     2959                  Fight Club      6\n"
     ]
    },
    {
     "name": "stderr",
     "output_type": "stream",
     "text": [
      "/var/folders/jy/vfzb27150nd0q7kfmfb32dcw0000gn/T/ipykernel_31050/847065675.py:15: SettingWithCopyWarning: \n",
      "A value is trying to be set on a copy of a slice from a DataFrame.\n",
      "Try using .loc[row_indexer,col_indexer] = value instead\n",
      "\n",
      "See the caveats in the documentation: https://pandas.pydata.org/pandas-docs/stable/user_guide/indexing.html#returning-a-view-versus-a-copy\n",
      "  top_recommend_mv_df['Likes'] = top_recommend_mv.values\n"
     ]
    }
   ],
   "execution_count": 23
  },
  {
   "cell_type": "markdown",
   "id": "f5663c1f",
   "metadata": {},
   "source": [
    "Congratulations! You just build the first [recommender system that worth 1 million dollars](https://www.netflixprize.com/) :D\n",
    "\n",
    "![netflix_prize](https://cdn.vox-cdn.com/thumbor/Kp9TEknNzIQV-ZijAm74cfHx_D0=/0x124:1100x700/fit-in/1200x630/cdn.vox-cdn.com/uploads/chorus_asset/file/15788062/netflix-prize1.0.1537040369.jpg)"
   ]
  },
  {
   "cell_type": "markdown",
   "id": "e0dba267",
   "metadata": {},
   "source": [
    "Before submission, do not forget to restart the kernel and run the whole notebook. \n",
    "\n",
    "Thank you!!"
   ]
  },
  {
   "cell_type": "code",
   "id": "70119e2e",
   "metadata": {
    "ExecuteTime": {
     "end_time": "2024-10-22T22:56:42.333770Z",
     "start_time": "2024-10-22T22:56:42.330405Z"
    }
   },
   "source": "",
   "outputs": [],
   "execution_count": null
  }
 ],
 "metadata": {
  "kernelspec": {
   "display_name": "Python 3 (ipykernel)",
   "language": "python",
   "name": "python3"
  },
  "language_info": {
   "codemirror_mode": {
    "name": "ipython",
    "version": 3
   },
   "file_extension": ".py",
   "mimetype": "text/x-python",
   "name": "python",
   "nbconvert_exporter": "python",
   "pygments_lexer": "ipython3",
   "version": "3.9.7"
  }
 },
 "nbformat": 4,
 "nbformat_minor": 5
}
