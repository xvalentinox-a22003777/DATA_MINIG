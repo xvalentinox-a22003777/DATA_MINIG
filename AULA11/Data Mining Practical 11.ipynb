{
 "cells": [
  {
   "cell_type": "markdown",
   "metadata": {},
   "source": [
    "# Practical 11\n",
    "\n",
    "In this class, you will be asked to solve some exercises about the K-means algorithm.\n",
    "\n",
    "Good work!!"
   ]
  },
  {
   "cell_type": "markdown",
   "metadata": {},
   "source": [
    "# K-means"
   ]
  },
  {
   "cell_type": "markdown",
   "metadata": {},
   "source": [
    "In this first exercise, you will __Apply K-means__ in a 2D dataset to help gain an intuition of how the algorithm works"
   ]
  },
  {
   "cell_type": "markdown",
   "metadata": {},
   "source": [
    "### Generate & Plot Test Data"
   ]
  },
  {
   "cell_type": "markdown",
   "metadata": {},
   "source": [
    "[`sklearn.datasets.make_blobs`](https://scikit-learn.org/stable/modules/generated/sklearn.datasets.make_blobs.html) is an `sklearn` method that uses a Gaussian equation to generate separable datasets for clustering or classification.\n",
    "\n",
    "👉Use it to generate a test dataset with 2 features (X, y) using the following parameters:\n",
    "- 500 data points\n",
    "- 4 classes (or clusters)\n",
    "- `random_state`=42\n",
    "\n",
    "Plot what your data looks like (it should be 4 distinct clusters of data)."
   ]
  },
  {
   "cell_type": "code",
   "execution_count": null,
   "metadata": {
    "tags": [
     "challengify"
    ]
   },
   "outputs": [],
   "source": []
  },
  {
   "cell_type": "markdown",
   "metadata": {},
   "source": [
    "To summarize, \n",
    "\n",
    "1. You've created a fake dataset X, with no target at all (no supervision with a `y` vector).\n",
    "\n",
    "2. This dataset has 500 observations, and 2 dimensions (or features), which are represented as two-dimensional positions on the plot you just made.\n",
    "\n",
    "3. This dataset still has a structure, which is 4 clusters in our case with different centers (or `centroids`)"
   ]
  },
  {
   "cell_type": "markdown",
   "metadata": {},
   "source": [
    "### Apply K-means"
   ]
  },
  {
   "cell_type": "markdown",
   "metadata": {},
   "source": [
    "Your goal is to find automatically the clusters that gives you the inherent structure of your data. Those clusters are only represented by their center.\n",
    "\n",
    "What you have to determine though, is the __number of clusters__ that you think the data has.\n",
    "\n",
    "[`sklearn` has a `KMeans`](https://scikit-learn.org/stable/modules/generated/sklearn.cluster.KMeans.html) package that does the math for you. \n",
    "\n",
    "👉Import `KMeans` from `sklearn` and initiate a model with the follwing parameters:\n",
    "- `n_clusters=2`,\n",
    "- `random_state=42`\n",
    "\n",
    "👉Then, fit the created data to the model, using `fit_predict`, which both fits the Kmeans model AND predicts back on the observations. \n",
    "**It hence returns an array of cluster index assignment for every observation in X**. Store it into the `y_pred` variable."
   ]
  },
  {
   "cell_type": "code",
   "execution_count": null,
   "metadata": {
    "tags": [
     "challengify"
    ]
   },
   "outputs": [],
   "source": []
  },
  {
   "cell_type": "markdown",
   "metadata": {},
   "source": [
    "You can now plot the prediction of clusters that KMeans gives you. In order to have a better overview of what the KMeans has found as clusters (here only 2), we want to color every observation with a distinct color corresponing to a different cluster. \n",
    "\n",
    "👉In order to do that, just plot your scattered observations, and pass the prediction vector that you just got as the color of the observation using `c=y_pred` argument"
   ]
  },
  {
   "cell_type": "code",
   "execution_count": null,
   "metadata": {
    "tags": [
     "challengify"
    ]
   },
   "outputs": [],
   "source": []
  },
  {
   "cell_type": "markdown",
   "metadata": {},
   "source": [
    "As you must see, the KMeans has found 2 clusters as required. It's not the modeling we want. We want to find the optimal number of clusters that represents our data the best. How do we find that optimal number of clusters?"
   ]
  },
  {
   "cell_type": "markdown",
   "metadata": {},
   "source": [
    "### Find the Appropriate Number of Clusters\n",
    "\n",
    "We can use two techniques to find the appropriate number of clusters. \n",
    "\n",
    "You have to know that the Kmeans also returns a property named `inertia_` that **returns the sum of squared distances of samples to their closest cluster center**. \n",
    "\n",
    "It can serve as an indicator to determine how much we have of **variance explained** the data by the found clusters. \n",
    "\n",
    "### The Elbow Method\n",
    "\n",
    "This is a technique that is used to help us find the appropriate number of cluster in K-Means. \n",
    "\n",
    "This method looks at the percentage of variance explained as a function of the number of clusters: one should choose a number of clusters so that __adding another cluster doesn't give much better modeling of the data__ (the marginal gain drops, giving an angle in the graph). Hence the \"elbow criterion\". \n",
    "\n",
    "NB: This \"elbow\" cannot always be unambiguously identified.\n",
    "\n",
    "👉__To do that, you want to `fit` a KMeans for every number of cluster between 1 and 10, and save the explained variance__"
   ]
  },
  {
   "cell_type": "code",
   "execution_count": null,
   "metadata": {
    "tags": [
     "challengify"
    ]
   },
   "outputs": [],
   "source": []
  },
  {
   "cell_type": "markdown",
   "metadata": {},
   "source": [
    "Then, you want to plot the inertias as a function of the number of clusters."
   ]
  },
  {
   "cell_type": "code",
   "execution_count": null,
   "metadata": {
    "tags": [
     "challengify"
    ]
   },
   "outputs": [],
   "source": []
  },
  {
   "cell_type": "markdown",
   "metadata": {},
   "source": [
    "You should see an \"Elbow\" where the inertia stops dropping dramatically at 4 (since we generated that data, we know it's the right answer 😉)."
   ]
  },
  {
   "cell_type": "code",
   "execution_count": null,
   "metadata": {},
   "outputs": [],
   "source": []
  }
 ],
 "metadata": {
  "kernelspec": {
   "display_name": "Python 3 (ipykernel)",
   "language": "python",
   "name": "python3"
  },
  "language_info": {
   "codemirror_mode": {
    "name": "ipython",
    "version": 3
   },
   "file_extension": ".py",
   "mimetype": "text/x-python",
   "name": "python",
   "nbconvert_exporter": "python",
   "pygments_lexer": "ipython3",
   "version": "3.9.7"
  }
 },
 "nbformat": 4,
 "nbformat_minor": 4
}
