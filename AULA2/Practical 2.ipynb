{
 "cells": [
  {
   "cell_type": "markdown",
   "id": "6d9f6b41",
   "metadata": {},
   "source": [
    "# Exercise 1 - Review variables, print and open functions \n",
    "\n",
    "<p>The objective of this program is to ask the user for certain information and then print this information on a file with the user name (first and last name) and extension .txt</p>\n",
    "\n",
    "<p>Requested information:\n",
    "<p>    1. First name\n",
    "<p>    2. Last name\n",
    "<p>    3. Age\n",
    "<p>    4. Email\n",
    "    \n",
    "<p>File name format:\n",
    "<p>    firstname_lastname.txt<p>"
   ]
  },
  {
   "cell_type": "code",
   "execution_count": 34,
   "id": "c40cd871",
   "metadata": {},
   "outputs": [
    {
     "name": "stdin",
     "output_type": "stream",
     "text": [
      "First Name:  a\n",
      "Last Name:  aa\n",
      "Age:  12\n",
      "Email:  axqscq\n"
     ]
    },
    {
     "name": "stdout",
     "output_type": "stream",
     "text": [
      "First Name: a\n",
      "Last Name: aa\n",
      "Age: 12\n",
      "Email: axqscq\n",
      "\n"
     ]
    }
   ],
   "source": [
    "#Answer here\n",
    "firstName = input(\"First Name: \")\n",
    "lastName = input(\"Last Name: \")\n",
    "age = int(input(\"Age: \"))\n",
    "email = input(\"Email: \")\n",
    "\n",
    "fileName = firstName + \"_\" + lastName + \".txt\"\n",
    "\n",
    "f = open(fileName, \"a\")\n",
    "\n",
    "with open(fileName, 'w')as file:\n",
    "    file.write(\"First Name: {}\\n\".format(firstName))\n",
    "    file.write(\"Last Name: {}\\n\".format(lastName))\n",
    "    file.write(\"Age: {}\\n\".format(age))\n",
    "    file.write(\"Email: {}\\n\".format(email))\n",
    "    \n",
    "\n",
    "\n",
    "f = open(fileName, \"r\")\n",
    "print(f.read())\n",
    "\n",
    "\n"
   ]
  },
  {
   "cell_type": "markdown",
   "id": "e6b700c2",
   "metadata": {},
   "source": [
    "# Exercise 2 - Open and analyse a csv file\n",
    "\n",
    "The objective of this exercise is open, read and analyze a csv file.\n",
    "The iris.csv is very popular dataset. The dataset consists of measurements of four features (attributes) of iris flowers:\n",
    "\n",
    "    sepal.length: Length of the sepal (the green leaf-like structure that protects the flower bud).\n",
    "\n",
    "    sepal.width: Width of the sepal.\n",
    "\n",
    "    petal.length: Length of the petal (the colorful part of the flower).\n",
    "\n",
    "    petal.width: Width of the petal.\n",
    "\n",
    "\n",
    "The fifth column indicates the species of iris.\n",
    "\n",
    "Each row in the dataset represents the measurements of a single iris flower. \n",
    "\n",
    "Please, answer the following questions:"
   ]
  },
  {
   "cell_type": "markdown",
   "id": "a95002c4",
   "metadata": {},
   "source": [
    "### Question 1: Import the csv and print it"
   ]
  },
  {
   "cell_type": "code",
   "execution_count": 36,
   "id": "c471d88d",
   "metadata": {},
   "outputs": [
    {
     "name": "stdout",
     "output_type": "stream",
     "text": [
      "Id,SepalLengthCm,SepalWidthCm,PetalLengthCm,PetalWidthCm,Species\n",
      "1,5.1,3.5,1.4,0.2,Iris-setosa\n",
      "2,4.9,3.0,1.4,0.2,Iris-setosa\n",
      "3,4.7,3.2,1.3,0.2,Iris-setosa\n",
      "4,4.6,3.1,1.5,0.2,Iris-setosa\n",
      "5,5.0,3.6,1.4,0.2,Iris-setosa\n",
      "6,5.4,3.9,1.7,0.4,Iris-setosa\n",
      "7,4.6,3.4,1.4,0.3,Iris-setosa\n",
      "8,5.0,3.4,1.5,0.2,Iris-setosa\n",
      "9,4.4,2.9,1.4,0.2,Iris-setosa\n",
      "10,4.9,3.1,1.5,0.1,Iris-setosa\n",
      "11,5.4,3.7,1.5,0.2,Iris-setosa\n",
      "12,4.8,3.4,1.6,0.2,Iris-setosa\n",
      "13,4.8,3.0,1.4,0.1,Iris-setosa\n",
      "14,4.3,3.0,1.1,0.1,Iris-setosa\n",
      "15,5.8,4.0,1.2,0.2,Iris-setosa\n",
      "16,5.7,4.4,1.5,0.4,Iris-setosa\n",
      "17,5.4,3.9,1.3,0.4,Iris-setosa\n",
      "18,5.1,3.5,1.4,0.3,Iris-setosa\n",
      "19,5.7,3.8,1.7,0.3,Iris-setosa\n",
      "20,5.1,3.8,1.5,0.3,Iris-setosa\n",
      "21,5.4,3.4,1.7,0.2,Iris-setosa\n",
      "22,5.1,3.7,1.5,0.4,Iris-setosa\n",
      "23,4.6,3.6,1.0,0.2,Iris-setosa\n",
      "24,5.1,3.3,1.7,0.5,Iris-setosa\n",
      "25,4.8,3.4,1.9,0.2,Iris-setosa\n",
      "26,5.0,3.0,1.6,0.2,Iris-setosa\n",
      "27,5.0,3.4,1.6,0.4,Iris-setosa\n",
      "28,5.2,3.5,1.5,0.2,Iris-setosa\n",
      "29,5.2,3.4,1.4,0.2,Iris-setosa\n",
      "30,4.7,3.2,1.6,0.2,Iris-setosa\n",
      "31,4.8,3.1,1.6,0.2,Iris-setosa\n",
      "32,5.4,3.4,1.5,0.4,Iris-setosa\n",
      "33,5.2,4.1,1.5,0.1,Iris-setosa\n",
      "34,5.5,4.2,1.4,0.2,Iris-setosa\n",
      "35,4.9,3.1,1.5,0.1,Iris-setosa\n",
      "36,5.0,3.2,1.2,0.2,Iris-setosa\n",
      "37,5.5,3.5,1.3,0.2,Iris-setosa\n",
      "38,4.9,3.1,1.5,0.1,Iris-setosa\n",
      "39,4.4,3.0,1.3,0.2,Iris-setosa\n",
      "40,5.1,3.4,1.5,0.2,Iris-setosa\n",
      "41,5.0,3.5,1.3,0.3,Iris-setosa\n",
      "42,4.5,2.3,1.3,0.3,Iris-setosa\n",
      "43,4.4,3.2,1.3,0.2,Iris-setosa\n",
      "44,5.0,3.5,1.6,0.6,Iris-setosa\n",
      "45,5.1,3.8,1.9,0.4,Iris-setosa\n",
      "46,4.8,3.0,1.4,0.3,Iris-setosa\n",
      "47,5.1,3.8,1.6,0.2,Iris-setosa\n",
      "48,4.6,3.2,1.4,0.2,Iris-setosa\n",
      "49,5.3,3.7,1.5,0.2,Iris-setosa\n",
      "50,5.0,3.3,1.4,0.2,Iris-setosa\n",
      "51,7.0,3.2,4.7,1.4,Iris-versicolor\n",
      "52,6.4,3.2,4.5,1.5,Iris-versicolor\n",
      "53,6.9,3.1,4.9,1.5,Iris-versicolor\n",
      "54,5.5,2.3,4.0,1.3,Iris-versicolor\n",
      "55,6.5,2.8,4.6,1.5,Iris-versicolor\n",
      "56,5.7,2.8,4.5,1.3,Iris-versicolor\n",
      "57,6.3,3.3,4.7,1.6,Iris-versicolor\n",
      "58,4.9,2.4,3.3,1.0,Iris-versicolor\n",
      "59,6.6,2.9,4.6,1.3,Iris-versicolor\n",
      "60,5.2,2.7,3.9,1.4,Iris-versicolor\n",
      "61,5.0,2.0,3.5,1.0,Iris-versicolor\n",
      "62,5.9,3.0,4.2,1.5,Iris-versicolor\n",
      "63,6.0,2.2,4.0,1.0,Iris-versicolor\n",
      "64,6.1,2.9,4.7,1.4,Iris-versicolor\n",
      "65,5.6,2.9,3.6,1.3,Iris-versicolor\n",
      "66,6.7,3.1,4.4,1.4,Iris-versicolor\n",
      "67,5.6,3.0,4.5,1.5,Iris-versicolor\n",
      "68,5.8,2.7,4.1,1.0,Iris-versicolor\n",
      "69,6.2,2.2,4.5,1.5,Iris-versicolor\n",
      "70,5.6,2.5,3.9,1.1,Iris-versicolor\n",
      "71,5.9,3.2,4.8,1.8,Iris-versicolor\n",
      "72,6.1,2.8,4.0,1.3,Iris-versicolor\n",
      "73,6.3,2.5,4.9,1.5,Iris-versicolor\n",
      "74,6.1,2.8,4.7,1.2,Iris-versicolor\n",
      "75,6.4,2.9,4.3,1.3,Iris-versicolor\n",
      "76,6.6,3.0,4.4,1.4,Iris-versicolor\n",
      "77,6.8,2.8,4.8,1.4,Iris-versicolor\n",
      "78,6.7,3.0,5.0,1.7,Iris-versicolor\n",
      "79,6.0,2.9,4.5,1.5,Iris-versicolor\n",
      "80,5.7,2.6,3.5,1.0,Iris-versicolor\n",
      "81,5.5,2.4,3.8,1.1,Iris-versicolor\n",
      "82,5.5,2.4,3.7,1.0,Iris-versicolor\n",
      "83,5.8,2.7,3.9,1.2,Iris-versicolor\n",
      "84,6.0,2.7,5.1,1.6,Iris-versicolor\n",
      "85,5.4,3.0,4.5,1.5,Iris-versicolor\n",
      "86,6.0,3.4,4.5,1.6,Iris-versicolor\n",
      "87,6.7,3.1,4.7,1.5,Iris-versicolor\n",
      "88,6.3,2.3,4.4,1.3,Iris-versicolor\n",
      "89,5.6,3.0,4.1,1.3,Iris-versicolor\n",
      "90,5.5,2.5,4.0,1.3,Iris-versicolor\n",
      "91,5.5,2.6,4.4,1.2,Iris-versicolor\n",
      "92,6.1,3.0,4.6,1.4,Iris-versicolor\n",
      "93,5.8,2.6,4.0,1.2,Iris-versicolor\n",
      "94,5.0,2.3,3.3,1.0,Iris-versicolor\n",
      "95,5.6,2.7,4.2,1.3,Iris-versicolor\n",
      "96,5.7,3.0,4.2,1.2,Iris-versicolor\n",
      "97,5.7,2.9,4.2,1.3,Iris-versicolor\n",
      "98,6.2,2.9,4.3,1.3,Iris-versicolor\n",
      "99,5.1,2.5,3.0,1.1,Iris-versicolor\n",
      "100,5.7,2.8,4.1,1.3,Iris-versicolor\n",
      "101,6.3,3.3,6.0,2.5,Iris-virginica\n",
      "102,5.8,2.7,5.1,1.9,Iris-virginica\n",
      "103,7.1,3.0,5.9,2.1,Iris-virginica\n",
      "104,6.3,2.9,5.6,1.8,Iris-virginica\n",
      "105,6.5,3.0,5.8,2.2,Iris-virginica\n",
      "106,7.6,3.0,6.6,2.1,Iris-virginica\n",
      "107,4.9,2.5,4.5,1.7,Iris-virginica\n",
      "108,7.3,2.9,6.3,1.8,Iris-virginica\n",
      "109,6.7,2.5,5.8,1.8,Iris-virginica\n",
      "110,7.2,3.6,6.1,2.5,Iris-virginica\n",
      "111,6.5,3.2,5.1,2.0,Iris-virginica\n",
      "112,6.4,2.7,5.3,1.9,Iris-virginica\n",
      "113,6.8,3.0,5.5,2.1,Iris-virginica\n",
      "114,5.7,2.5,5.0,2.0,Iris-virginica\n",
      "115,5.8,2.8,5.1,2.4,Iris-virginica\n",
      "116,6.4,3.2,5.3,2.3,Iris-virginica\n",
      "117,6.5,3.0,5.5,1.8,Iris-virginica\n",
      "118,7.7,3.8,6.7,2.2,Iris-virginica\n",
      "119,7.7,2.6,6.9,2.3,Iris-virginica\n",
      "120,6.0,2.2,5.0,1.5,Iris-virginica\n",
      "121,6.9,3.2,5.7,2.3,Iris-virginica\n",
      "122,5.6,2.8,4.9,2.0,Iris-virginica\n",
      "123,7.7,2.8,6.7,2.0,Iris-virginica\n",
      "124,6.3,2.7,4.9,1.8,Iris-virginica\n",
      "125,6.7,3.3,5.7,2.1,Iris-virginica\n",
      "126,7.2,3.2,6.0,1.8,Iris-virginica\n",
      "127,6.2,2.8,4.8,1.8,Iris-virginica\n",
      "128,6.1,3.0,4.9,1.8,Iris-virginica\n",
      "129,6.4,2.8,5.6,2.1,Iris-virginica\n",
      "130,7.2,3.0,5.8,1.6,Iris-virginica\n",
      "131,7.4,2.8,6.1,1.9,Iris-virginica\n",
      "132,7.9,3.8,6.4,2.0,Iris-virginica\n",
      "133,6.4,2.8,5.6,2.2,Iris-virginica\n",
      "134,6.3,2.8,5.1,1.5,Iris-virginica\n",
      "135,6.1,2.6,5.6,1.4,Iris-virginica\n",
      "136,7.7,3.0,6.1,2.3,Iris-virginica\n",
      "137,6.3,3.4,5.6,2.4,Iris-virginica\n",
      "138,6.4,3.1,5.5,1.8,Iris-virginica\n",
      "139,6.0,3.0,4.8,1.8,Iris-virginica\n",
      "140,6.9,3.1,5.4,2.1,Iris-virginica\n",
      "141,6.7,3.1,5.6,2.4,Iris-virginica\n",
      "142,6.9,3.1,5.1,2.3,Iris-virginica\n",
      "143,5.8,2.7,5.1,1.9,Iris-virginica\n",
      "144,6.8,3.2,5.9,2.3,Iris-virginica\n",
      "145,6.7,3.3,5.7,2.5,Iris-virginica\n",
      "146,6.7,3.0,5.2,2.3,Iris-virginica\n",
      "147,6.3,2.5,5.0,1.9,Iris-virginica\n",
      "148,6.5,3.0,5.2,2.0,Iris-virginica\n",
      "149,6.2,3.4,5.4,2.3,Iris-virginica\n",
      "150,5.9,3.0,5.1,1.8,Iris-virginica\n",
      "\n"
     ]
    }
   ],
   "source": [
    "#Answer here\n",
    "\n",
    "f = open(\"Iris.csv\", \"r\")\n",
    "print(f.read())"
   ]
  },
  {
   "cell_type": "markdown",
   "id": "d5e91e81",
   "metadata": {},
   "source": [
    "### Question 2 : How many flower measurements are there in the dataset?"
   ]
  },
  {
   "cell_type": "code",
   "execution_count": 62,
   "id": "8605146d",
   "metadata": {},
   "outputs": [
    {
     "name": "stdout",
     "output_type": "stream",
     "text": [
      "150\n"
     ]
    }
   ],
   "source": [
    "#Answer here\n",
    "f = open(\"Iris.csv\", \"r\")\n",
    "print(len(f.readlines()) - 1)"
   ]
  },
  {
   "cell_type": "markdown",
   "id": "9fe5c9f1",
   "metadata": {},
   "source": [
    "### Question 3 : What iris species exist in the dataset?"
   ]
  },
  {
   "cell_type": "code",
   "execution_count": 64,
   "id": "72f6d2a7",
   "metadata": {},
   "outputs": [
    {
     "name": "stdout",
     "output_type": "stream",
     "text": [
      "{'Iris-virginica', 'Iris-setosa', 'Iris-versicolor'}\n"
     ]
    }
   ],
   "source": [
    "#Answer here\n",
    "file = open(\"Iris.csv\", \"r\")\n",
    "lines = file.readlines()\n",
    "file.close()\n",
    "\n",
    "species = set(line.strip().split(',')[-1] for line in lines[1:])\n",
    "print(species)\n",
    "\n"
   ]
  },
  {
   "cell_type": "markdown",
   "id": "12c81815",
   "metadata": {},
   "source": [
    "### Question 4: Compute the average of each feature "
   ]
  },
  {
   "cell_type": "code",
   "execution_count": null,
   "id": "e1af69f7",
   "metadata": {},
   "outputs": [],
   "source": [
    "#Answer here\n",
    "\n",
    "\n",
    "\n",
    "\n"
   ]
  },
  {
   "cell_type": "code",
   "execution_count": null,
   "id": "a2108eae",
   "metadata": {},
   "outputs": [],
   "source": []
  }
 ],
 "metadata": {
  "kernelspec": {
   "display_name": "Python 3 (ipykernel)",
   "language": "python",
   "name": "python3"
  },
  "language_info": {
   "codemirror_mode": {
    "name": "ipython",
    "version": 3
   },
   "file_extension": ".py",
   "mimetype": "text/x-python",
   "name": "python",
   "nbconvert_exporter": "python",
   "pygments_lexer": "ipython3",
   "version": "3.12.4"
  }
 },
 "nbformat": 4,
 "nbformat_minor": 5
}
